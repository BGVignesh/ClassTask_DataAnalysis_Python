{
 "cells": [
  {
   "cell_type": "markdown",
   "id": "08d9d0e0",
   "metadata": {},
   "source": [
    "**Create pandas series with different data types in different ways**"
   ]
  },
  {
   "cell_type": "code",
   "execution_count": 1,
   "id": "bcc43833",
   "metadata": {},
   "outputs": [],
   "source": [
    "import pandas as pd\n",
    "import numpy as np"
   ]
  },
  {
   "cell_type": "code",
   "execution_count": 2,
   "id": "4be58682",
   "metadata": {},
   "outputs": [
    {
     "data": {
      "text/plain": [
       "0    1\n",
       "1    2\n",
       "2    3\n",
       "3    4\n",
       "4    5\n",
       "5    6\n",
       "6    7\n",
       "7    8\n",
       "dtype: int64"
      ]
     },
     "execution_count": 2,
     "metadata": {},
     "output_type": "execute_result"
    }
   ],
   "source": [
    "List = [1,2,3,4,5,6,7,8]\n",
    "List1 = pd.Series(List)\n",
    "List1"
   ]
  },
  {
   "cell_type": "code",
   "execution_count": 14,
   "id": "89da3f96",
   "metadata": {},
   "outputs": [
    {
     "data": {
      "text/plain": [
       "1     Raju\n",
       "2     Gani\n",
       "3    Nambi\n",
       "dtype: object"
      ]
     },
     "execution_count": 14,
     "metadata": {},
     "output_type": "execute_result"
    }
   ],
   "source": [
    "ar = [\"Raju\",\"Gani\",\"Nambi\"]\n",
    "ar1 = pd.Series(ar,index = list(range(1,4)))\n",
    "ar1"
   ]
  },
  {
   "cell_type": "code",
   "execution_count": 10,
   "id": "02c7c2ba",
   "metadata": {},
   "outputs": [
    {
     "data": {
      "text/plain": [
       "Raju     50.0\n",
       "Gani     80.0\n",
       "Nambi    75.0\n",
       "dtype: float64"
      ]
     },
     "execution_count": 10,
     "metadata": {},
     "output_type": "execute_result"
    }
   ],
   "source": [
    "arr = {\"Raju\":50,\"Gani\":80,\"Nambi\":75}\n",
    "arr = pd.Series(arr, dtype = 'float64')\n",
    "arr"
   ]
  },
  {
   "cell_type": "markdown",
   "id": "41ec62b3",
   "metadata": {},
   "source": [
    "**Find the attributes of Series of [10,30,40,1,3,6,14,18,23] with index starts from 100**"
   ]
  },
  {
   "cell_type": "code",
   "execution_count": 18,
   "id": "cf63dcee",
   "metadata": {},
   "outputs": [
    {
     "data": {
      "text/plain": [
       "100    10\n",
       "101    30\n",
       "102    40\n",
       "103     1\n",
       "104     3\n",
       "105     6\n",
       "106    14\n",
       "107    18\n",
       "108    23\n",
       "dtype: int64"
      ]
     },
     "execution_count": 18,
     "metadata": {},
     "output_type": "execute_result"
    }
   ],
   "source": [
    "series = [10,30,40,1,3,6,14,18,23]\n",
    "n = len(series)\n",
    "ser = pd.Series(series, index = list(range(100,100+n)))\n",
    "ser"
   ]
  },
  {
   "cell_type": "code",
   "execution_count": 19,
   "id": "99815a70",
   "metadata": {},
   "outputs": [
    {
     "name": "stdout",
     "output_type": "stream",
     "text": [
      "<class 'pandas.core.series.Series'>\n",
      "Int64Index: 9 entries, 100 to 108\n",
      "Series name: None\n",
      "Non-Null Count  Dtype\n",
      "--------------  -----\n",
      "9 non-null      int64\n",
      "dtypes: int64(1)\n",
      "memory usage: 144.0 bytes\n"
     ]
    }
   ],
   "source": [
    "ser.info()"
   ]
  },
  {
   "cell_type": "code",
   "execution_count": 20,
   "id": "ccf2e3d8",
   "metadata": {},
   "outputs": [
    {
     "data": {
      "text/plain": [
       "100    10\n",
       "101    30\n",
       "102    40\n",
       "dtype: int64"
      ]
     },
     "execution_count": 20,
     "metadata": {},
     "output_type": "execute_result"
    }
   ],
   "source": [
    "ser.head(3)"
   ]
  },
  {
   "cell_type": "code",
   "execution_count": 21,
   "id": "85a72d14",
   "metadata": {},
   "outputs": [
    {
     "data": {
      "text/plain": [
       "40"
      ]
     },
     "execution_count": 21,
     "metadata": {},
     "output_type": "execute_result"
    }
   ],
   "source": [
    "ser.head(3)[102]"
   ]
  },
  {
   "cell_type": "code",
   "execution_count": 22,
   "id": "84fd2dfa",
   "metadata": {},
   "outputs": [
    {
     "data": {
      "text/plain": [
       "104     3\n",
       "105     6\n",
       "106    14\n",
       "107    18\n",
       "108    23\n",
       "dtype: int64"
      ]
     },
     "execution_count": 22,
     "metadata": {},
     "output_type": "execute_result"
    }
   ],
   "source": [
    "ser.tail()"
   ]
  },
  {
   "cell_type": "code",
   "execution_count": 23,
   "id": "b1b9da17",
   "metadata": {},
   "outputs": [
    {
     "data": {
      "text/plain": [
       "144"
      ]
     },
     "execution_count": 23,
     "metadata": {},
     "output_type": "execute_result"
    }
   ],
   "source": [
    "ser.memory_usage()"
   ]
  },
  {
   "cell_type": "code",
   "execution_count": 24,
   "id": "7a1af2d8",
   "metadata": {},
   "outputs": [
    {
     "data": {
      "text/plain": [
       "count     9.000000\n",
       "mean     16.111111\n",
       "std      13.033078\n",
       "min       1.000000\n",
       "25%       6.000000\n",
       "50%      14.000000\n",
       "75%      23.000000\n",
       "max      40.000000\n",
       "dtype: float64"
      ]
     },
     "execution_count": 24,
     "metadata": {},
     "output_type": "execute_result"
    }
   ],
   "source": [
    "ser.describe()"
   ]
  },
  {
   "cell_type": "markdown",
   "id": "8083cfca",
   "metadata": {},
   "source": [
    "**create salaries of 30 employee salaries randomly from 30000-90000 then measure and describe the data using pandas series.**"
   ]
  },
  {
   "cell_type": "code",
   "execution_count": 25,
   "id": "573efd3b",
   "metadata": {},
   "outputs": [
    {
     "data": {
      "text/plain": [
       "array([72665, 82038, 49373, 57502, 51968, 44316, 54003, 56258, 36753,\n",
       "       54238, 68039, 32078, 88066, 65430, 38743, 64990, 61102, 65809,\n",
       "       71599, 52376, 36835, 81302, 46775, 50435, 76085, 80379, 65390,\n",
       "       41778, 38099, 55051])"
      ]
     },
     "execution_count": 25,
     "metadata": {},
     "output_type": "execute_result"
    }
   ],
   "source": [
    "salaries = np.random.randint(30000,90000,30)\n",
    "salaries"
   ]
  },
  {
   "cell_type": "code",
   "execution_count": 26,
   "id": "714d5065",
   "metadata": {},
   "outputs": [
    {
     "data": {
      "text/plain": [
       "1     72665\n",
       "2     82038\n",
       "3     49373\n",
       "4     57502\n",
       "5     51968\n",
       "6     44316\n",
       "7     54003\n",
       "8     56258\n",
       "9     36753\n",
       "10    54238\n",
       "11    68039\n",
       "12    32078\n",
       "13    88066\n",
       "14    65430\n",
       "15    38743\n",
       "16    64990\n",
       "17    61102\n",
       "18    65809\n",
       "19    71599\n",
       "20    52376\n",
       "21    36835\n",
       "22    81302\n",
       "23    46775\n",
       "24    50435\n",
       "25    76085\n",
       "26    80379\n",
       "27    65390\n",
       "28    41778\n",
       "29    38099\n",
       "30    55051\n",
       "dtype: int32"
      ]
     },
     "execution_count": 26,
     "metadata": {},
     "output_type": "execute_result"
    }
   ],
   "source": [
    "sal = pd.Series(salaries, index = list(range(1,31)))\n",
    "sal"
   ]
  },
  {
   "cell_type": "code",
   "execution_count": 27,
   "id": "dc00d463",
   "metadata": {},
   "outputs": [
    {
     "data": {
      "text/plain": [
       "57982.5"
      ]
     },
     "execution_count": 27,
     "metadata": {},
     "output_type": "execute_result"
    }
   ],
   "source": [
    "sal.mean()      ## Average salary"
   ]
  },
  {
   "cell_type": "code",
   "execution_count": 28,
   "id": "25d3932f",
   "metadata": {},
   "outputs": [
    {
     "data": {
      "text/plain": [
       "55654.5"
      ]
     },
     "execution_count": 28,
     "metadata": {},
     "output_type": "execute_result"
    }
   ],
   "source": [
    "sal.median()    ## Center most salary"
   ]
  },
  {
   "cell_type": "code",
   "execution_count": 29,
   "id": "1906b948",
   "metadata": {},
   "outputs": [
    {
     "data": {
      "text/plain": [
       "0     32078\n",
       "1     36753\n",
       "2     36835\n",
       "3     38099\n",
       "4     38743\n",
       "5     41778\n",
       "6     44316\n",
       "7     46775\n",
       "8     49373\n",
       "9     50435\n",
       "10    51968\n",
       "11    52376\n",
       "12    54003\n",
       "13    54238\n",
       "14    55051\n",
       "15    56258\n",
       "16    57502\n",
       "17    61102\n",
       "18    64990\n",
       "19    65390\n",
       "20    65430\n",
       "21    65809\n",
       "22    68039\n",
       "23    71599\n",
       "24    72665\n",
       "25    76085\n",
       "26    80379\n",
       "27    81302\n",
       "28    82038\n",
       "29    88066\n",
       "dtype: int32"
      ]
     },
     "execution_count": 29,
     "metadata": {},
     "output_type": "execute_result"
    }
   ],
   "source": [
    "sal.mode()    ## No common salary, every person has different salary"
   ]
  },
  {
   "cell_type": "code",
   "execution_count": 30,
   "id": "903fe2c4",
   "metadata": {},
   "outputs": [
    {
     "data": {
      "text/plain": [
       "232383231.8448276"
      ]
     },
     "execution_count": 30,
     "metadata": {},
     "output_type": "execute_result"
    }
   ],
   "source": [
    "sal.var()"
   ]
  },
  {
   "cell_type": "code",
   "execution_count": 31,
   "id": "dab0170d",
   "metadata": {},
   "outputs": [
    {
     "data": {
      "text/plain": [
       "15244.12122245253"
      ]
     },
     "execution_count": 31,
     "metadata": {},
     "output_type": "execute_result"
    }
   ],
   "source": [
    "sal.std()"
   ]
  },
  {
   "cell_type": "code",
   "execution_count": 32,
   "id": "fde3cf8b",
   "metadata": {},
   "outputs": [
    {
     "data": {
      "text/plain": [
       "32078"
      ]
     },
     "execution_count": 32,
     "metadata": {},
     "output_type": "execute_result"
    }
   ],
   "source": [
    "sal.min()     ## Lowest salary"
   ]
  },
  {
   "cell_type": "code",
   "execution_count": 33,
   "id": "b1f28326",
   "metadata": {},
   "outputs": [
    {
     "data": {
      "text/plain": [
       "88066"
      ]
     },
     "execution_count": 33,
     "metadata": {},
     "output_type": "execute_result"
    }
   ],
   "source": [
    "sal.max()  ## Highest salary"
   ]
  },
  {
   "cell_type": "code",
   "execution_count": 34,
   "id": "c5cbc014",
   "metadata": {},
   "outputs": [
    {
     "data": {
      "text/plain": [
       "47424.5"
      ]
     },
     "execution_count": 34,
     "metadata": {},
     "output_type": "execute_result"
    }
   ],
   "source": [
    "sal.quantile(0.25)      ## 25% of the salaries"
   ]
  },
  {
   "cell_type": "code",
   "execution_count": 35,
   "id": "fdaefed3",
   "metadata": {},
   "outputs": [
    {
     "data": {
      "text/plain": [
       "67481.5"
      ]
     },
     "execution_count": 35,
     "metadata": {},
     "output_type": "execute_result"
    }
   ],
   "source": [
    "sal.quantile(0.75)    ## 75% of the salaries"
   ]
  },
  {
   "cell_type": "code",
   "execution_count": 36,
   "id": "fbb72797",
   "metadata": {},
   "outputs": [
    {
     "data": {
      "text/plain": [
       "count       30.000000\n",
       "mean     57982.500000\n",
       "std      15244.121222\n",
       "min      32078.000000\n",
       "25%      47424.500000\n",
       "50%      55654.500000\n",
       "75%      67481.500000\n",
       "max      88066.000000\n",
       "dtype: float64"
      ]
     },
     "execution_count": 36,
     "metadata": {},
     "output_type": "execute_result"
    }
   ],
   "source": [
    "sal.describe()       ## descriptive statistics in single attribute"
   ]
  },
  {
   "cell_type": "markdown",
   "id": "92097d22",
   "metadata": {},
   "source": [
    "**What are the similaraties and differences between pandas series and nnumpy array.Prove it with code.**"
   ]
  },
  {
   "cell_type": "code",
   "execution_count": 47,
   "id": "c9b75ab4",
   "metadata": {},
   "outputs": [],
   "source": [
    "Lis = [\"Raju\",\"Gani\",\"Nambi\",\"Chandu\",\"Ramesh\"]"
   ]
  },
  {
   "cell_type": "code",
   "execution_count": 48,
   "id": "fd3867c4",
   "metadata": {},
   "outputs": [
    {
     "data": {
      "text/plain": [
       "array([[['Raju', 'Gani', 'Nambi', 'Chandu', 'Ramesh']]], dtype='<U6')"
      ]
     },
     "execution_count": 48,
     "metadata": {},
     "output_type": "execute_result"
    }
   ],
   "source": [
    "Lis1 = np.array(Lis, ndmin = 3)\n",
    "Lis1"
   ]
  },
  {
   "cell_type": "code",
   "execution_count": 50,
   "id": "05701259",
   "metadata": {},
   "outputs": [
    {
     "data": {
      "text/plain": [
       "0      Raju\n",
       "1      Gani\n",
       "2     Nambi\n",
       "3    Chandu\n",
       "4    Ramesh\n",
       "dtype: object"
      ]
     },
     "execution_count": 50,
     "metadata": {},
     "output_type": "execute_result"
    }
   ],
   "source": [
    "Lis2 = pd.Series(Lis)\n",
    "Lis2"
   ]
  },
  {
   "cell_type": "code",
   "execution_count": 44,
   "id": "2a408c9b",
   "metadata": {},
   "outputs": [
    {
     "data": {
      "text/plain": [
       "3"
      ]
     },
     "execution_count": 44,
     "metadata": {},
     "output_type": "execute_result"
    }
   ],
   "source": [
    "Lis1.ndim"
   ]
  },
  {
   "cell_type": "code",
   "execution_count": 45,
   "id": "81cff245",
   "metadata": {},
   "outputs": [
    {
     "data": {
      "text/plain": [
       "1"
      ]
     },
     "execution_count": 45,
     "metadata": {},
     "output_type": "execute_result"
    }
   ],
   "source": [
    "Lis2.ndim"
   ]
  },
  {
   "cell_type": "code",
   "execution_count": null,
   "id": "36af0bfa",
   "metadata": {},
   "outputs": [],
   "source": [
    "## Pandas Has index numbers, Numpy doesnt have Index numbers.\n",
    "## Pandas Has data type Object because it is heterogeneous, Numpy is homogeneous hence it considered Text as U6(6 characters)\n",
    "## Pandas Series is 1 Dimensional, Numpy is 'n' dimensional"
   ]
  },
  {
   "cell_type": "markdown",
   "id": "82744244",
   "metadata": {},
   "source": [
    "**create pandas series with ranges from 100 to 150 then apply indexing and slicing on it.**"
   ]
  },
  {
   "cell_type": "code",
   "execution_count": 51,
   "id": "b41621f3",
   "metadata": {},
   "outputs": [
    {
     "data": {
      "text/plain": [
       "0     100\n",
       "1     101\n",
       "2     102\n",
       "3     103\n",
       "4     104\n",
       "5     105\n",
       "6     106\n",
       "7     107\n",
       "8     108\n",
       "9     109\n",
       "10    110\n",
       "11    111\n",
       "12    112\n",
       "13    113\n",
       "14    114\n",
       "15    115\n",
       "16    116\n",
       "17    117\n",
       "18    118\n",
       "19    119\n",
       "20    120\n",
       "21    121\n",
       "22    122\n",
       "23    123\n",
       "24    124\n",
       "25    125\n",
       "26    126\n",
       "27    127\n",
       "28    128\n",
       "29    129\n",
       "30    130\n",
       "31    131\n",
       "32    132\n",
       "33    133\n",
       "34    134\n",
       "35    135\n",
       "36    136\n",
       "37    137\n",
       "38    138\n",
       "39    139\n",
       "40    140\n",
       "41    141\n",
       "42    142\n",
       "43    143\n",
       "44    144\n",
       "45    145\n",
       "46    146\n",
       "47    147\n",
       "48    148\n",
       "49    149\n",
       "dtype: int64"
      ]
     },
     "execution_count": 51,
     "metadata": {},
     "output_type": "execute_result"
    }
   ],
   "source": [
    "ran = list(range(100,150))\n",
    "pan = pd.Series(ran)\n",
    "pan"
   ]
  },
  {
   "cell_type": "code",
   "execution_count": 52,
   "id": "ddbb5837",
   "metadata": {},
   "outputs": [
    {
     "data": {
      "text/plain": [
       "141"
      ]
     },
     "execution_count": 52,
     "metadata": {},
     "output_type": "execute_result"
    }
   ],
   "source": [
    "pan[41]    ## Indexing"
   ]
  },
  {
   "cell_type": "code",
   "execution_count": 53,
   "id": "bcc13b49",
   "metadata": {},
   "outputs": [
    {
     "data": {
      "text/plain": [
       "10    110\n",
       "15    115\n",
       "20    120\n",
       "25    125\n",
       "30    130\n",
       "35    135\n",
       "dtype: int64"
      ]
     },
     "execution_count": 53,
     "metadata": {},
     "output_type": "execute_result"
    }
   ],
   "source": [
    "pan[10:40:5]   ## Slicing"
   ]
  },
  {
   "cell_type": "code",
   "execution_count": null,
   "id": "bca58677",
   "metadata": {},
   "outputs": [],
   "source": []
  }
 ],
 "metadata": {
  "kernelspec": {
   "display_name": "Python 3 (ipykernel)",
   "language": "python",
   "name": "python3"
  },
  "language_info": {
   "codemirror_mode": {
    "name": "ipython",
    "version": 3
   },
   "file_extension": ".py",
   "mimetype": "text/x-python",
   "name": "python",
   "nbconvert_exporter": "python",
   "pygments_lexer": "ipython3",
   "version": "3.11.4"
  }
 },
 "nbformat": 4,
 "nbformat_minor": 5
}
