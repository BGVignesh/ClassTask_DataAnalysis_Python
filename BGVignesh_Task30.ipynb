{
 "cells": [
  {
   "cell_type": "code",
   "execution_count": 1,
   "id": "988ea580",
   "metadata": {},
   "outputs": [],
   "source": [
    "import pandas as pd\n",
    "import numpy as np"
   ]
  },
  {
   "cell_type": "code",
   "execution_count": 2,
   "id": "04545ee7",
   "metadata": {},
   "outputs": [
    {
     "data": {
      "text/html": [
       "<div>\n",
       "<style scoped>\n",
       "    .dataframe tbody tr th:only-of-type {\n",
       "        vertical-align: middle;\n",
       "    }\n",
       "\n",
       "    .dataframe tbody tr th {\n",
       "        vertical-align: top;\n",
       "    }\n",
       "\n",
       "    .dataframe thead th {\n",
       "        text-align: right;\n",
       "    }\n",
       "</style>\n",
       "<table border=\"1\" class=\"dataframe\">\n",
       "  <thead>\n",
       "    <tr style=\"text-align: right;\">\n",
       "      <th></th>\n",
       "      <th>Customer ID</th>\n",
       "      <th>Age</th>\n",
       "      <th>Gender</th>\n",
       "      <th>Item Purchased</th>\n",
       "      <th>Category</th>\n",
       "      <th>Purchase Amount (USD)</th>\n",
       "      <th>Location</th>\n",
       "      <th>Size</th>\n",
       "      <th>Color</th>\n",
       "      <th>Season</th>\n",
       "      <th>Review Rating</th>\n",
       "      <th>Subscription Status</th>\n",
       "      <th>Shipping Type</th>\n",
       "      <th>Discount Applied</th>\n",
       "      <th>Promo Code Used</th>\n",
       "      <th>Previous Purchases</th>\n",
       "      <th>Payment Method</th>\n",
       "      <th>Frequency of Purchases</th>\n",
       "    </tr>\n",
       "  </thead>\n",
       "  <tbody>\n",
       "    <tr>\n",
       "      <th>0</th>\n",
       "      <td>1.0</td>\n",
       "      <td>55.0</td>\n",
       "      <td>Male</td>\n",
       "      <td>Blouse</td>\n",
       "      <td>Clothing</td>\n",
       "      <td>53</td>\n",
       "      <td>Kentucky</td>\n",
       "      <td>L</td>\n",
       "      <td>Gray</td>\n",
       "      <td>Winter</td>\n",
       "      <td>3.1</td>\n",
       "      <td>Yes</td>\n",
       "      <td>Express</td>\n",
       "      <td>Yes</td>\n",
       "      <td>Yes</td>\n",
       "      <td>14</td>\n",
       "      <td>Venmo</td>\n",
       "      <td>Fortnightly</td>\n",
       "    </tr>\n",
       "    <tr>\n",
       "      <th>1</th>\n",
       "      <td>2.0</td>\n",
       "      <td>19.0</td>\n",
       "      <td>Male</td>\n",
       "      <td>Sweater</td>\n",
       "      <td>Clothing</td>\n",
       "      <td>64</td>\n",
       "      <td>Maine</td>\n",
       "      <td>L</td>\n",
       "      <td>Maroon</td>\n",
       "      <td>Winter</td>\n",
       "      <td>13.1</td>\n",
       "      <td>Yes</td>\n",
       "      <td>Express</td>\n",
       "      <td>Yes</td>\n",
       "      <td>Yes</td>\n",
       "      <td>2</td>\n",
       "      <td>Cash</td>\n",
       "      <td>Fortnightly</td>\n",
       "    </tr>\n",
       "    <tr>\n",
       "      <th>2</th>\n",
       "      <td>3.0</td>\n",
       "      <td>50.0</td>\n",
       "      <td>Male</td>\n",
       "      <td>Jeans</td>\n",
       "      <td>Clothing</td>\n",
       "      <td>73</td>\n",
       "      <td>Massachusetts</td>\n",
       "      <td>S</td>\n",
       "      <td>Maroon</td>\n",
       "      <td>Spring</td>\n",
       "      <td>3.1</td>\n",
       "      <td>Yes</td>\n",
       "      <td>Free Shipping</td>\n",
       "      <td>Yes</td>\n",
       "      <td>Yes</td>\n",
       "      <td>23</td>\n",
       "      <td>Credit Card</td>\n",
       "      <td>Weekly</td>\n",
       "    </tr>\n",
       "    <tr>\n",
       "      <th>3</th>\n",
       "      <td>4.0</td>\n",
       "      <td>21.0</td>\n",
       "      <td>Male</td>\n",
       "      <td>Sandals</td>\n",
       "      <td>Footwear</td>\n",
       "      <td>90</td>\n",
       "      <td>Rhode Island</td>\n",
       "      <td>M</td>\n",
       "      <td>Maroon</td>\n",
       "      <td>Spring</td>\n",
       "      <td>3.5</td>\n",
       "      <td>Yes</td>\n",
       "      <td>Next Day Air</td>\n",
       "      <td>Yes</td>\n",
       "      <td>Yes</td>\n",
       "      <td>49</td>\n",
       "      <td>PayPal</td>\n",
       "      <td>Weekly</td>\n",
       "    </tr>\n",
       "    <tr>\n",
       "      <th>4</th>\n",
       "      <td>5.0</td>\n",
       "      <td>145.0</td>\n",
       "      <td>Male</td>\n",
       "      <td>Blouse</td>\n",
       "      <td>Clothing</td>\n",
       "      <td>49</td>\n",
       "      <td>Oregon</td>\n",
       "      <td>M</td>\n",
       "      <td>Turquoise</td>\n",
       "      <td>Spring</td>\n",
       "      <td>2.7</td>\n",
       "      <td>Yes</td>\n",
       "      <td>Free Shipping</td>\n",
       "      <td>Yes</td>\n",
       "      <td>Yes</td>\n",
       "      <td>31</td>\n",
       "      <td>PayPal</td>\n",
       "      <td>Annually</td>\n",
       "    </tr>\n",
       "  </tbody>\n",
       "</table>\n",
       "</div>"
      ],
      "text/plain": [
       "   Customer ID    Age Gender Item Purchased  Category  Purchase Amount (USD)  \\\n",
       "0          1.0   55.0   Male         Blouse  Clothing                     53   \n",
       "1          2.0   19.0   Male        Sweater  Clothing                     64   \n",
       "2          3.0   50.0   Male          Jeans  Clothing                     73   \n",
       "3          4.0   21.0   Male        Sandals  Footwear                     90   \n",
       "4          5.0  145.0   Male         Blouse  Clothing                     49   \n",
       "\n",
       "        Location Size      Color  Season  Review Rating Subscription Status  \\\n",
       "0       Kentucky    L       Gray  Winter            3.1                 Yes   \n",
       "1          Maine    L     Maroon  Winter           13.1                 Yes   \n",
       "2  Massachusetts    S     Maroon  Spring            3.1                 Yes   \n",
       "3   Rhode Island    M     Maroon  Spring            3.5                 Yes   \n",
       "4         Oregon    M  Turquoise  Spring            2.7                 Yes   \n",
       "\n",
       "   Shipping Type Discount Applied Promo Code Used  Previous Purchases  \\\n",
       "0        Express              Yes             Yes                  14   \n",
       "1        Express              Yes             Yes                   2   \n",
       "2  Free Shipping              Yes             Yes                  23   \n",
       "3   Next Day Air              Yes             Yes                  49   \n",
       "4  Free Shipping              Yes             Yes                  31   \n",
       "\n",
       "  Payment Method Frequency of Purchases  \n",
       "0          Venmo            Fortnightly  \n",
       "1           Cash            Fortnightly  \n",
       "2    Credit Card                 Weekly  \n",
       "3         PayPal                 Weekly  \n",
       "4         PayPal               Annually  "
      ]
     },
     "execution_count": 2,
     "metadata": {},
     "output_type": "execute_result"
    }
   ],
   "source": [
    "dd = pd.read_excel(r\"C:\\Users\\hi\\Downloads\\shopping.xlsx\")\n",
    "dd.head()"
   ]
  },
  {
   "cell_type": "code",
   "execution_count": 3,
   "id": "81b9221e",
   "metadata": {
    "scrolled": true
   },
   "outputs": [
    {
     "data": {
      "text/plain": [
       "Customer ID               30\n",
       "Age                        2\n",
       "Gender                     5\n",
       "Item Purchased             4\n",
       "Category                   4\n",
       "Purchase Amount (USD)      0\n",
       "Location                   2\n",
       "Size                       0\n",
       "Color                      4\n",
       "Season                     3\n",
       "Review Rating              2\n",
       "Subscription Status        2\n",
       "Shipping Type              0\n",
       "Discount Applied           7\n",
       "Promo Code Used            7\n",
       "Previous Purchases         0\n",
       "Payment Method             4\n",
       "Frequency of Purchases     3\n",
       "dtype: int64"
      ]
     },
     "execution_count": 3,
     "metadata": {},
     "output_type": "execute_result"
    }
   ],
   "source": [
    "dd.isna().sum()"
   ]
  },
  {
   "cell_type": "markdown",
   "id": "5315d161",
   "metadata": {},
   "source": [
    "#### Treating missing value"
   ]
  },
  {
   "cell_type": "code",
   "execution_count": 4,
   "id": "8231dc9b",
   "metadata": {},
   "outputs": [],
   "source": [
    "dd[\"Age\"].fillna(dd[\"Age\"].mean(), inplace = True)"
   ]
  },
  {
   "cell_type": "code",
   "execution_count": 5,
   "id": "87d73413",
   "metadata": {},
   "outputs": [],
   "source": [
    "dd[\"Gender\"].fillna(dd[\"Gender\"].mode()[0], inplace = True)"
   ]
  },
  {
   "cell_type": "code",
   "execution_count": 6,
   "id": "2da64408",
   "metadata": {},
   "outputs": [],
   "source": [
    "dd[\"Item Purchased\"].fillna(dd[\"Item Purchased\"].mode()[0], inplace = True)"
   ]
  },
  {
   "cell_type": "code",
   "execution_count": 7,
   "id": "2e6fb7c5",
   "metadata": {},
   "outputs": [],
   "source": [
    "dd[\"Category\"].fillna(dd[\"Category\"].mode()[0], inplace = True)"
   ]
  },
  {
   "cell_type": "code",
   "execution_count": 8,
   "id": "f5dab5bf",
   "metadata": {},
   "outputs": [],
   "source": [
    "dd[\"Location\"].fillna(dd[\"Location\"].mode()[0], inplace = True)"
   ]
  },
  {
   "cell_type": "code",
   "execution_count": 9,
   "id": "6d22fc85",
   "metadata": {},
   "outputs": [],
   "source": [
    "dd[\"Color\"].fillna(dd[\"Color\"].mode()[0], inplace = True)"
   ]
  },
  {
   "cell_type": "code",
   "execution_count": 10,
   "id": "ada55aad",
   "metadata": {},
   "outputs": [],
   "source": [
    "dd[\"Season\"].fillna(dd[\"Season\"].mode()[0], inplace = True)"
   ]
  },
  {
   "cell_type": "code",
   "execution_count": 11,
   "id": "53cf02c9",
   "metadata": {},
   "outputs": [],
   "source": [
    "dd[\"Review Rating\"].fillna(dd[\"Review Rating\"].mean(), inplace = True)"
   ]
  },
  {
   "cell_type": "code",
   "execution_count": 12,
   "id": "2c53af20",
   "metadata": {},
   "outputs": [],
   "source": [
    "dd[\"Subscription Status\"].fillna(dd[\"Subscription Status\"].mode()[0], inplace = True)"
   ]
  },
  {
   "cell_type": "code",
   "execution_count": 13,
   "id": "38d72188",
   "metadata": {},
   "outputs": [],
   "source": [
    "dd[\"Discount Applied\"].fillna(dd[\"Discount Applied\"].mode()[0], inplace = True)"
   ]
  },
  {
   "cell_type": "code",
   "execution_count": 14,
   "id": "a2525a6a",
   "metadata": {},
   "outputs": [],
   "source": [
    "dd[\"Promo Code Used\"].fillna(dd[\"Promo Code Used\"].mode()[0], inplace = True)"
   ]
  },
  {
   "cell_type": "code",
   "execution_count": 15,
   "id": "2eb0eabb",
   "metadata": {},
   "outputs": [],
   "source": [
    "dd[\"Payment Method\"].fillna(dd[\"Payment Method\"].mode()[0], inplace = True)"
   ]
  },
  {
   "cell_type": "code",
   "execution_count": 16,
   "id": "86d8512a",
   "metadata": {},
   "outputs": [],
   "source": [
    "dd[\"Frequency of Purchases\"].fillna(dd[\"Frequency of Purchases\"].mode()[0], inplace = True)"
   ]
  },
  {
   "cell_type": "code",
   "execution_count": 17,
   "id": "aeb31a0c",
   "metadata": {},
   "outputs": [],
   "source": [
    "dd.drop(\"Customer ID\", axis = 1, inplace = True)"
   ]
  },
  {
   "cell_type": "code",
   "execution_count": 18,
   "id": "bc787907",
   "metadata": {},
   "outputs": [
    {
     "data": {
      "text/plain": [
       "Age                       0\n",
       "Gender                    0\n",
       "Item Purchased            0\n",
       "Category                  0\n",
       "Purchase Amount (USD)     0\n",
       "Location                  0\n",
       "Size                      0\n",
       "Color                     0\n",
       "Season                    0\n",
       "Review Rating             0\n",
       "Subscription Status       0\n",
       "Shipping Type             0\n",
       "Discount Applied          0\n",
       "Promo Code Used           0\n",
       "Previous Purchases        0\n",
       "Payment Method            0\n",
       "Frequency of Purchases    0\n",
       "dtype: int64"
      ]
     },
     "execution_count": 18,
     "metadata": {},
     "output_type": "execute_result"
    }
   ],
   "source": [
    "dd.isna().sum()"
   ]
  },
  {
   "cell_type": "markdown",
   "id": "0f55573a",
   "metadata": {},
   "source": [
    "#### Treating outliers"
   ]
  },
  {
   "cell_type": "code",
   "execution_count": 19,
   "id": "3fb687f5",
   "metadata": {},
   "outputs": [],
   "source": [
    "dd[\"Age\"] = np.where(((dd[\"Age\"]<0) | (dd[\"Age\"]>100)), dd[\"Age\"].mean(), dd[\"Age\"])"
   ]
  },
  {
   "cell_type": "code",
   "execution_count": 20,
   "id": "89113da0",
   "metadata": {},
   "outputs": [],
   "source": [
    "dd[\"Review Rating\"] = np.where(((dd[\"Review Rating\"]<0) | (dd[\"Review Rating\"]>5)), dd[\"Review Rating\"].mean(), dd[\"Review Rating\"])"
   ]
  },
  {
   "cell_type": "code",
   "execution_count": 21,
   "id": "f4383211",
   "metadata": {},
   "outputs": [
    {
     "data": {
      "text/plain": [
       "0       55.000000\n",
       "1       19.000000\n",
       "2       50.000000\n",
       "3       21.000000\n",
       "4       44.293657\n",
       "          ...    \n",
       "2677    70.000000\n",
       "2678    24.000000\n",
       "2679    67.000000\n",
       "2680    24.000000\n",
       "2681    62.000000\n",
       "Name: Age, Length: 2682, dtype: float64"
      ]
     },
     "execution_count": 21,
     "metadata": {},
     "output_type": "execute_result"
    }
   ],
   "source": [
    "dd[\"Age\"]"
   ]
  },
  {
   "cell_type": "code",
   "execution_count": 22,
   "id": "9f2cdb11",
   "metadata": {},
   "outputs": [
    {
     "data": {
      "text/plain": [
       "0       3.100000\n",
       "1       3.844851\n",
       "2       3.100000\n",
       "3       3.500000\n",
       "4       2.700000\n",
       "          ...   \n",
       "2677    3.200000\n",
       "2678    4.000000\n",
       "2679    3.000000\n",
       "2680    4.200000\n",
       "2681    2.900000\n",
       "Name: Review Rating, Length: 2682, dtype: float64"
      ]
     },
     "execution_count": 22,
     "metadata": {},
     "output_type": "execute_result"
    }
   ],
   "source": [
    "dd[\"Review Rating\"]"
   ]
  },
  {
   "cell_type": "markdown",
   "id": "5a387f82",
   "metadata": {},
   "source": [
    "#### Type casting"
   ]
  },
  {
   "cell_type": "code",
   "execution_count": 23,
   "id": "d3e92f7b",
   "metadata": {},
   "outputs": [],
   "source": [
    "dd[\"Age\"] = dd[\"Age\"].astype('int16')"
   ]
  },
  {
   "cell_type": "code",
   "execution_count": 24,
   "id": "c50cf060",
   "metadata": {},
   "outputs": [],
   "source": [
    "dd[\"Review Rating\"] = dd[\"Review Rating\"].astype('float16')"
   ]
  },
  {
   "cell_type": "code",
   "execution_count": 25,
   "id": "7764a911",
   "metadata": {},
   "outputs": [
    {
     "data": {
      "text/plain": [
       "(0       3.099609\n",
       " 1       3.845703\n",
       " 2       3.099609\n",
       " 3       3.500000\n",
       " 4       2.699219\n",
       "           ...   \n",
       " 2677    3.199219\n",
       " 2678    4.000000\n",
       " 2679    3.000000\n",
       " 2680    4.199219\n",
       " 2681    2.900391\n",
       " Name: Review Rating, Length: 2682, dtype: float16,\n",
       " 0       55\n",
       " 1       19\n",
       " 2       50\n",
       " 3       21\n",
       " 4       44\n",
       "         ..\n",
       " 2677    70\n",
       " 2678    24\n",
       " 2679    67\n",
       " 2680    24\n",
       " 2681    62\n",
       " Name: Age, Length: 2682, dtype: int16)"
      ]
     },
     "execution_count": 25,
     "metadata": {},
     "output_type": "execute_result"
    }
   ],
   "source": [
    "dd[\"Review Rating\"], dd[\"Age\"]"
   ]
  },
  {
   "cell_type": "markdown",
   "id": "fd99b056",
   "metadata": {},
   "source": [
    "#### Treating duplicates"
   ]
  },
  {
   "cell_type": "code",
   "execution_count": 26,
   "id": "a637edda",
   "metadata": {},
   "outputs": [
    {
     "name": "stdout",
     "output_type": "stream",
     "text": [
      "<class 'pandas.core.frame.DataFrame'>\n",
      "RangeIndex: 2682 entries, 0 to 2681\n",
      "Data columns (total 17 columns):\n",
      " #   Column                  Non-Null Count  Dtype  \n",
      "---  ------                  --------------  -----  \n",
      " 0   Age                     2682 non-null   int16  \n",
      " 1   Gender                  2682 non-null   object \n",
      " 2   Item Purchased          2682 non-null   object \n",
      " 3   Category                2682 non-null   object \n",
      " 4   Purchase Amount (USD)   2682 non-null   int64  \n",
      " 5   Location                2682 non-null   object \n",
      " 6   Size                    2682 non-null   object \n",
      " 7   Color                   2682 non-null   object \n",
      " 8   Season                  2682 non-null   object \n",
      " 9   Review Rating           2682 non-null   float16\n",
      " 10  Subscription Status     2682 non-null   object \n",
      " 11  Shipping Type           2682 non-null   object \n",
      " 12  Discount Applied        2682 non-null   object \n",
      " 13  Promo Code Used         2682 non-null   object \n",
      " 14  Previous Purchases      2682 non-null   int64  \n",
      " 15  Payment Method          2682 non-null   object \n",
      " 16  Frequency of Purchases  2682 non-null   object \n",
      "dtypes: float16(1), int16(1), int64(2), object(13)\n",
      "memory usage: 324.9+ KB\n"
     ]
    }
   ],
   "source": [
    "dd.info()"
   ]
  },
  {
   "cell_type": "code",
   "execution_count": 29,
   "id": "976695f9",
   "metadata": {},
   "outputs": [
    {
     "data": {
      "text/plain": [
       "30"
      ]
     },
     "execution_count": 29,
     "metadata": {},
     "output_type": "execute_result"
    }
   ],
   "source": [
    "dd.duplicated().sum()"
   ]
  },
  {
   "cell_type": "code",
   "execution_count": 30,
   "id": "5dfa783a",
   "metadata": {},
   "outputs": [],
   "source": [
    "dd.drop_duplicates(inplace = True)"
   ]
  },
  {
   "cell_type": "code",
   "execution_count": 31,
   "id": "8f2d6e5a",
   "metadata": {},
   "outputs": [
    {
     "data": {
      "text/plain": [
       "0"
      ]
     },
     "execution_count": 31,
     "metadata": {},
     "output_type": "execute_result"
    }
   ],
   "source": [
    "dd.duplicated().sum()"
   ]
  },
  {
   "cell_type": "code",
   "execution_count": 32,
   "id": "afd070e9",
   "metadata": {},
   "outputs": [
    {
     "name": "stdout",
     "output_type": "stream",
     "text": [
      "<class 'pandas.core.frame.DataFrame'>\n",
      "Int64Index: 2652 entries, 0 to 2667\n",
      "Data columns (total 17 columns):\n",
      " #   Column                  Non-Null Count  Dtype  \n",
      "---  ------                  --------------  -----  \n",
      " 0   Age                     2652 non-null   int16  \n",
      " 1   Gender                  2652 non-null   object \n",
      " 2   Item Purchased          2652 non-null   object \n",
      " 3   Category                2652 non-null   object \n",
      " 4   Purchase Amount (USD)   2652 non-null   int64  \n",
      " 5   Location                2652 non-null   object \n",
      " 6   Size                    2652 non-null   object \n",
      " 7   Color                   2652 non-null   object \n",
      " 8   Season                  2652 non-null   object \n",
      " 9   Review Rating           2652 non-null   float16\n",
      " 10  Subscription Status     2652 non-null   object \n",
      " 11  Shipping Type           2652 non-null   object \n",
      " 12  Discount Applied        2652 non-null   object \n",
      " 13  Promo Code Used         2652 non-null   object \n",
      " 14  Previous Purchases      2652 non-null   int64  \n",
      " 15  Payment Method          2652 non-null   object \n",
      " 16  Frequency of Purchases  2652 non-null   object \n",
      "dtypes: float16(1), int16(1), int64(2), object(13)\n",
      "memory usage: 341.9+ KB\n"
     ]
    }
   ],
   "source": [
    "dd.info()"
   ]
  },
  {
   "cell_type": "markdown",
   "id": "77317987",
   "metadata": {},
   "source": [
    "#### Variance\n",
    "\n",
    "1) Numerical data"
   ]
  },
  {
   "cell_type": "code",
   "execution_count": 33,
   "id": "183da32a",
   "metadata": {},
   "outputs": [
    {
     "data": {
      "text/plain": [
       "234.79773988927028"
      ]
     },
     "execution_count": 33,
     "metadata": {},
     "output_type": "execute_result"
    }
   ],
   "source": [
    "dd[\"Age\"].var()"
   ]
  },
  {
   "cell_type": "code",
   "execution_count": 34,
   "id": "8fe07a5e",
   "metadata": {},
   "outputs": [
    {
     "data": {
      "text/plain": [
       "0.5083"
      ]
     },
     "execution_count": 34,
     "metadata": {},
     "output_type": "execute_result"
    }
   ],
   "source": [
    "dd[\"Review Rating\"].var()"
   ]
  },
  {
   "cell_type": "code",
   "execution_count": 35,
   "id": "fa01ff8b",
   "metadata": {},
   "outputs": [
    {
     "data": {
      "text/plain": [
       "566.9149471470685"
      ]
     },
     "execution_count": 35,
     "metadata": {},
     "output_type": "execute_result"
    }
   ],
   "source": [
    "dd[\"Purchase Amount (USD)\"].var()"
   ]
  },
  {
   "cell_type": "code",
   "execution_count": 36,
   "id": "0936f6a3",
   "metadata": {},
   "outputs": [
    {
     "data": {
      "text/plain": [
       "206.59952830913346"
      ]
     },
     "execution_count": 36,
     "metadata": {},
     "output_type": "execute_result"
    }
   ],
   "source": [
    "dd[\"Previous Purchases\"].var()"
   ]
  },
  {
   "cell_type": "markdown",
   "id": "53f1c8d1",
   "metadata": {},
   "source": [
    "2) Categorical Data"
   ]
  },
  {
   "cell_type": "code",
   "execution_count": 40,
   "id": "97889940",
   "metadata": {},
   "outputs": [
    {
     "data": {
      "text/plain": [
       "25"
      ]
     },
     "execution_count": 40,
     "metadata": {},
     "output_type": "execute_result"
    }
   ],
   "source": [
    "dd[\"Item Purchased\"].nunique()"
   ]
  },
  {
   "cell_type": "code",
   "execution_count": 39,
   "id": "a812a472",
   "metadata": {},
   "outputs": [
    {
     "data": {
      "text/plain": [
       "1"
      ]
     },
     "execution_count": 39,
     "metadata": {},
     "output_type": "execute_result"
    }
   ],
   "source": [
    "dd[\"Gender\"].nunique()"
   ]
  },
  {
   "cell_type": "code",
   "execution_count": 41,
   "id": "8d7160fb",
   "metadata": {},
   "outputs": [
    {
     "data": {
      "text/plain": [
       "4"
      ]
     },
     "execution_count": 41,
     "metadata": {},
     "output_type": "execute_result"
    }
   ],
   "source": [
    "dd[\"Category\"].nunique()"
   ]
  },
  {
   "cell_type": "code",
   "execution_count": 42,
   "id": "68948d55",
   "metadata": {},
   "outputs": [
    {
     "data": {
      "text/plain": [
       "50"
      ]
     },
     "execution_count": 42,
     "metadata": {},
     "output_type": "execute_result"
    }
   ],
   "source": [
    "dd[\"Location\"].nunique()"
   ]
  },
  {
   "cell_type": "code",
   "execution_count": 43,
   "id": "a09f7fa4",
   "metadata": {},
   "outputs": [
    {
     "data": {
      "text/plain": [
       "4"
      ]
     },
     "execution_count": 43,
     "metadata": {},
     "output_type": "execute_result"
    }
   ],
   "source": [
    "dd[\"Size\"].nunique()"
   ]
  },
  {
   "cell_type": "code",
   "execution_count": 44,
   "id": "20a097f9",
   "metadata": {},
   "outputs": [
    {
     "data": {
      "text/plain": [
       "25"
      ]
     },
     "execution_count": 44,
     "metadata": {},
     "output_type": "execute_result"
    }
   ],
   "source": [
    "dd[\"Color\"].nunique()"
   ]
  },
  {
   "cell_type": "code",
   "execution_count": 49,
   "id": "a498b4bd",
   "metadata": {},
   "outputs": [
    {
     "data": {
      "text/plain": [
       "4"
      ]
     },
     "execution_count": 49,
     "metadata": {},
     "output_type": "execute_result"
    }
   ],
   "source": [
    "dd[\"Season\"].nunique()"
   ]
  },
  {
   "cell_type": "code",
   "execution_count": 50,
   "id": "e0bf417c",
   "metadata": {},
   "outputs": [
    {
     "data": {
      "text/plain": [
       "2"
      ]
     },
     "execution_count": 50,
     "metadata": {},
     "output_type": "execute_result"
    }
   ],
   "source": [
    "dd[\"Subscription Status\"].nunique()"
   ]
  },
  {
   "cell_type": "code",
   "execution_count": 51,
   "id": "5a6132f3",
   "metadata": {},
   "outputs": [
    {
     "data": {
      "text/plain": [
       "6"
      ]
     },
     "execution_count": 51,
     "metadata": {},
     "output_type": "execute_result"
    }
   ],
   "source": [
    "dd[\"Shipping Type\"].nunique()"
   ]
  },
  {
   "cell_type": "code",
   "execution_count": 52,
   "id": "cdeb8029",
   "metadata": {},
   "outputs": [
    {
     "data": {
      "text/plain": [
       "2"
      ]
     },
     "execution_count": 52,
     "metadata": {},
     "output_type": "execute_result"
    }
   ],
   "source": [
    "dd[\"Discount Applied\"].nunique()"
   ]
  },
  {
   "cell_type": "code",
   "execution_count": 53,
   "id": "7129ee66",
   "metadata": {},
   "outputs": [
    {
     "data": {
      "text/plain": [
       "2"
      ]
     },
     "execution_count": 53,
     "metadata": {},
     "output_type": "execute_result"
    }
   ],
   "source": [
    "dd[\"Promo Code Used\"].nunique()"
   ]
  },
  {
   "cell_type": "code",
   "execution_count": 54,
   "id": "1f9c42e8",
   "metadata": {},
   "outputs": [
    {
     "data": {
      "text/plain": [
       "6"
      ]
     },
     "execution_count": 54,
     "metadata": {},
     "output_type": "execute_result"
    }
   ],
   "source": [
    "dd[\"Payment Method\"].nunique()"
   ]
  },
  {
   "cell_type": "code",
   "execution_count": 55,
   "id": "e8d786dc",
   "metadata": {},
   "outputs": [
    {
     "data": {
      "text/plain": [
       "7"
      ]
     },
     "execution_count": 55,
     "metadata": {},
     "output_type": "execute_result"
    }
   ],
   "source": [
    "dd[\"Frequency of Purchases\"].nunique()"
   ]
  },
  {
   "cell_type": "markdown",
   "id": "4153874e",
   "metadata": {},
   "source": [
    "# Dummy Variables\n",
    "\n",
    "#### One hot encoding"
   ]
  },
  {
   "cell_type": "code",
   "execution_count": 57,
   "id": "6d27947b",
   "metadata": {},
   "outputs": [
    {
     "data": {
      "text/html": [
       "<div>\n",
       "<style scoped>\n",
       "    .dataframe tbody tr th:only-of-type {\n",
       "        vertical-align: middle;\n",
       "    }\n",
       "\n",
       "    .dataframe tbody tr th {\n",
       "        vertical-align: top;\n",
       "    }\n",
       "\n",
       "    .dataframe thead th {\n",
       "        text-align: right;\n",
       "    }\n",
       "</style>\n",
       "<table border=\"1\" class=\"dataframe\">\n",
       "  <thead>\n",
       "    <tr style=\"text-align: right;\">\n",
       "      <th></th>\n",
       "      <th>Clothing</th>\n",
       "      <th>Footwear</th>\n",
       "      <th>Outerwear</th>\n",
       "    </tr>\n",
       "  </thead>\n",
       "  <tbody>\n",
       "    <tr>\n",
       "      <th>0</th>\n",
       "      <td>1</td>\n",
       "      <td>0</td>\n",
       "      <td>0</td>\n",
       "    </tr>\n",
       "    <tr>\n",
       "      <th>1</th>\n",
       "      <td>1</td>\n",
       "      <td>0</td>\n",
       "      <td>0</td>\n",
       "    </tr>\n",
       "    <tr>\n",
       "      <th>2</th>\n",
       "      <td>1</td>\n",
       "      <td>0</td>\n",
       "      <td>0</td>\n",
       "    </tr>\n",
       "    <tr>\n",
       "      <th>3</th>\n",
       "      <td>0</td>\n",
       "      <td>1</td>\n",
       "      <td>0</td>\n",
       "    </tr>\n",
       "    <tr>\n",
       "      <th>4</th>\n",
       "      <td>1</td>\n",
       "      <td>0</td>\n",
       "      <td>0</td>\n",
       "    </tr>\n",
       "    <tr>\n",
       "      <th>...</th>\n",
       "      <td>...</td>\n",
       "      <td>...</td>\n",
       "      <td>...</td>\n",
       "    </tr>\n",
       "    <tr>\n",
       "      <th>2663</th>\n",
       "      <td>0</td>\n",
       "      <td>1</td>\n",
       "      <td>0</td>\n",
       "    </tr>\n",
       "    <tr>\n",
       "      <th>2664</th>\n",
       "      <td>1</td>\n",
       "      <td>0</td>\n",
       "      <td>0</td>\n",
       "    </tr>\n",
       "    <tr>\n",
       "      <th>2665</th>\n",
       "      <td>0</td>\n",
       "      <td>0</td>\n",
       "      <td>0</td>\n",
       "    </tr>\n",
       "    <tr>\n",
       "      <th>2666</th>\n",
       "      <td>1</td>\n",
       "      <td>0</td>\n",
       "      <td>0</td>\n",
       "    </tr>\n",
       "    <tr>\n",
       "      <th>2667</th>\n",
       "      <td>0</td>\n",
       "      <td>1</td>\n",
       "      <td>0</td>\n",
       "    </tr>\n",
       "  </tbody>\n",
       "</table>\n",
       "<p>2652 rows × 3 columns</p>\n",
       "</div>"
      ],
      "text/plain": [
       "      Clothing  Footwear  Outerwear\n",
       "0            1         0          0\n",
       "1            1         0          0\n",
       "2            1         0          0\n",
       "3            0         1          0\n",
       "4            1         0          0\n",
       "...        ...       ...        ...\n",
       "2663         0         1          0\n",
       "2664         1         0          0\n",
       "2665         0         0          0\n",
       "2666         1         0          0\n",
       "2667         0         1          0\n",
       "\n",
       "[2652 rows x 3 columns]"
      ]
     },
     "execution_count": 57,
     "metadata": {},
     "output_type": "execute_result"
    }
   ],
   "source": [
    "pd.get_dummies(dd[\"Category\"], drop_first = True)"
   ]
  },
  {
   "cell_type": "code",
   "execution_count": 58,
   "id": "05ff8e8d",
   "metadata": {},
   "outputs": [
    {
     "data": {
      "text/html": [
       "<div>\n",
       "<style scoped>\n",
       "    .dataframe tbody tr th:only-of-type {\n",
       "        vertical-align: middle;\n",
       "    }\n",
       "\n",
       "    .dataframe tbody tr th {\n",
       "        vertical-align: top;\n",
       "    }\n",
       "\n",
       "    .dataframe thead th {\n",
       "        text-align: right;\n",
       "    }\n",
       "</style>\n",
       "<table border=\"1\" class=\"dataframe\">\n",
       "  <thead>\n",
       "    <tr style=\"text-align: right;\">\n",
       "      <th></th>\n",
       "      <th>No</th>\n",
       "      <th>Yes</th>\n",
       "    </tr>\n",
       "  </thead>\n",
       "  <tbody>\n",
       "    <tr>\n",
       "      <th>0</th>\n",
       "      <td>0</td>\n",
       "      <td>1</td>\n",
       "    </tr>\n",
       "    <tr>\n",
       "      <th>1</th>\n",
       "      <td>0</td>\n",
       "      <td>1</td>\n",
       "    </tr>\n",
       "    <tr>\n",
       "      <th>2</th>\n",
       "      <td>0</td>\n",
       "      <td>1</td>\n",
       "    </tr>\n",
       "    <tr>\n",
       "      <th>3</th>\n",
       "      <td>0</td>\n",
       "      <td>1</td>\n",
       "    </tr>\n",
       "    <tr>\n",
       "      <th>4</th>\n",
       "      <td>0</td>\n",
       "      <td>1</td>\n",
       "    </tr>\n",
       "    <tr>\n",
       "      <th>...</th>\n",
       "      <td>...</td>\n",
       "      <td>...</td>\n",
       "    </tr>\n",
       "    <tr>\n",
       "      <th>2663</th>\n",
       "      <td>1</td>\n",
       "      <td>0</td>\n",
       "    </tr>\n",
       "    <tr>\n",
       "      <th>2664</th>\n",
       "      <td>1</td>\n",
       "      <td>0</td>\n",
       "    </tr>\n",
       "    <tr>\n",
       "      <th>2665</th>\n",
       "      <td>1</td>\n",
       "      <td>0</td>\n",
       "    </tr>\n",
       "    <tr>\n",
       "      <th>2666</th>\n",
       "      <td>1</td>\n",
       "      <td>0</td>\n",
       "    </tr>\n",
       "    <tr>\n",
       "      <th>2667</th>\n",
       "      <td>1</td>\n",
       "      <td>0</td>\n",
       "    </tr>\n",
       "  </tbody>\n",
       "</table>\n",
       "<p>2652 rows × 2 columns</p>\n",
       "</div>"
      ],
      "text/plain": [
       "      No  Yes\n",
       "0      0    1\n",
       "1      0    1\n",
       "2      0    1\n",
       "3      0    1\n",
       "4      0    1\n",
       "...   ..  ...\n",
       "2663   1    0\n",
       "2664   1    0\n",
       "2665   1    0\n",
       "2666   1    0\n",
       "2667   1    0\n",
       "\n",
       "[2652 rows x 2 columns]"
      ]
     },
     "execution_count": 58,
     "metadata": {},
     "output_type": "execute_result"
    }
   ],
   "source": [
    "pd.get_dummies(dd[\"Discount Applied\"])"
   ]
  },
  {
   "cell_type": "markdown",
   "id": "3da3d95f",
   "metadata": {},
   "source": [
    "#### Label encoding"
   ]
  },
  {
   "cell_type": "code",
   "execution_count": 59,
   "id": "d1abef67",
   "metadata": {},
   "outputs": [],
   "source": [
    "def size(n):\n",
    "    if n == 'XL':\n",
    "        return 4\n",
    "    elif n == 'L':\n",
    "        return 3\n",
    "    elif n == 'M':\n",
    "        return 2\n",
    "    else:\n",
    "        return 1"
   ]
  },
  {
   "cell_type": "code",
   "execution_count": 61,
   "id": "abe632b4",
   "metadata": {},
   "outputs": [
    {
     "data": {
      "text/plain": [
       "(0       3\n",
       " 1       3\n",
       " 2       1\n",
       " 3       2\n",
       " 4       2\n",
       "        ..\n",
       " 2663    2\n",
       " 2664    2\n",
       " 2665    2\n",
       " 2666    3\n",
       " 2667    2\n",
       " Name: Size, Length: 2652, dtype: int64,\n",
       " 0       L\n",
       " 1       L\n",
       " 2       S\n",
       " 3       M\n",
       " 4       M\n",
       "        ..\n",
       " 2663    M\n",
       " 2664    M\n",
       " 2665    M\n",
       " 2666    L\n",
       " 2667    M\n",
       " Name: Size, Length: 2652, dtype: object)"
      ]
     },
     "execution_count": 61,
     "metadata": {},
     "output_type": "execute_result"
    }
   ],
   "source": [
    "dd[\"Size\"].apply(size),dd[\"Size\"]"
   ]
  },
  {
   "cell_type": "markdown",
   "id": "ba2bb471",
   "metadata": {},
   "source": [
    "## Scaling"
   ]
  },
  {
   "cell_type": "code",
   "execution_count": 64,
   "id": "a5f866a3",
   "metadata": {},
   "outputs": [
    {
     "data": {
      "text/plain": [
       "(44.093514328808446, 44.0)"
      ]
     },
     "execution_count": 64,
     "metadata": {},
     "output_type": "execute_result"
    }
   ],
   "source": [
    "dd[\"Age\"].mean(),dd[\"Age\"].median()"
   ]
  },
  {
   "cell_type": "code",
   "execution_count": 65,
   "id": "3f15592d",
   "metadata": {},
   "outputs": [],
   "source": [
    "## Above mean and median are close hence normalization"
   ]
  },
  {
   "cell_type": "code",
   "execution_count": 66,
   "id": "36d1f44c",
   "metadata": {},
   "outputs": [],
   "source": [
    "def normal(x):\n",
    "    n = (x - min(dd[\"Age\"]))/(max(dd[\"Age\"]-min(dd[\"Age\"])))\n",
    "    return n"
   ]
  },
  {
   "cell_type": "code",
   "execution_count": 67,
   "id": "ad160f99",
   "metadata": {},
   "outputs": [
    {
     "data": {
      "text/plain": [
       "0       0.711538\n",
       "1       0.019231\n",
       "2       0.615385\n",
       "3       0.057692\n",
       "4       0.500000\n",
       "          ...   \n",
       "2663    0.807692\n",
       "2664    0.634615\n",
       "2665    0.096154\n",
       "2666    0.038462\n",
       "2667    0.634615\n",
       "Name: Age, Length: 2652, dtype: float64"
      ]
     },
     "execution_count": 67,
     "metadata": {},
     "output_type": "execute_result"
    }
   ],
   "source": [
    "dd[\"Age\"] = dd[\"Age\"].apply(normal)\n",
    "dd[\"Age\"]"
   ]
  },
  {
   "cell_type": "code",
   "execution_count": null,
   "id": "b17608fe",
   "metadata": {},
   "outputs": [],
   "source": []
  }
 ],
 "metadata": {
  "kernelspec": {
   "display_name": "Python 3 (ipykernel)",
   "language": "python",
   "name": "python3"
  },
  "language_info": {
   "codemirror_mode": {
    "name": "ipython",
    "version": 3
   },
   "file_extension": ".py",
   "mimetype": "text/x-python",
   "name": "python",
   "nbconvert_exporter": "python",
   "pygments_lexer": "ipython3",
   "version": "3.11.4"
  }
 },
 "nbformat": 4,
 "nbformat_minor": 5
}
