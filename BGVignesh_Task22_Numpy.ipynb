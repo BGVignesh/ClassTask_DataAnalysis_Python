{
 "cells": [
  {
   "cell_type": "markdown",
   "id": "83f738fc",
   "metadata": {},
   "source": [
    "**Creation of ndarray**\n",
    "\n",
    "Write python code to create 3d array in different ways with 15 elements.\n"
   ]
  },
  {
   "cell_type": "code",
   "execution_count": 1,
   "id": "80756cd4",
   "metadata": {},
   "outputs": [],
   "source": [
    "import numpy as np\n"
   ]
  },
  {
   "cell_type": "code",
   "execution_count": 2,
   "id": "313e7477",
   "metadata": {},
   "outputs": [
    {
     "data": {
      "text/plain": [
       "array([[[12, 12,  6, 11, 16, 12,  6, 19,  8, 19, 10, 14,  9,  3, 16]]])"
      ]
     },
     "execution_count": 2,
     "metadata": {},
     "output_type": "execute_result"
    }
   ],
   "source": [
    "arr = np.array([np.random.randint(1,20,15)], ndmin = 3)           ## Way 1\n",
    "arr"
   ]
  },
  {
   "cell_type": "code",
   "execution_count": 3,
   "id": "4edf45cf",
   "metadata": {},
   "outputs": [
    {
     "data": {
      "text/plain": [
       "array([[[12, 13,  6, 11, 16, 15,  7, 19,  8, 19, 10, 14,  9,  3, 16]]])"
      ]
     },
     "execution_count": 3,
     "metadata": {},
     "output_type": "execute_result"
    }
   ],
   "source": [
    "array = np.array([[[12, 13,  6, 11, 16, 15,  7, 19,  8, 19, 10, 14,  9,  3, 16]]])     ## Way 2\n",
    "array"
   ]
  },
  {
   "cell_type": "code",
   "execution_count": 7,
   "id": "290e1bc7",
   "metadata": {},
   "outputs": [
    {
     "data": {
      "text/plain": [
       "array([[[12, 13,  6],\n",
       "        [11, 16, 15],\n",
       "        [ 7, 19,  8],\n",
       "        [19, 10, 14],\n",
       "        [ 9,  3, 16]]])"
      ]
     },
     "execution_count": 7,
     "metadata": {},
     "output_type": "execute_result"
    }
   ],
   "source": [
    "ar = np.array([12, 13,  6, 11, 16, 15,  7, 19,  8, 19, 10, 14,  9,  3, 16]).reshape(1,5,3)      ## Way 3\n",
    "ar"
   ]
  },
  {
   "cell_type": "markdown",
   "id": "47adf4d6",
   "metadata": {},
   "source": [
    "Array Creation: a. Create a 4D NumPy array containing the first 12 positive integers as arr1. b. Create a 3D NumPy array1 with 20 random elements containing integers between 0 and 1."
   ]
  },
  {
   "cell_type": "code",
   "execution_count": 9,
   "id": "3e6e899c",
   "metadata": {},
   "outputs": [
    {
     "data": {
      "text/plain": [
       "array([[[[ 1,  2,  3,  4,  5,  6,  7,  8,  9, 10, 11, 12]]]])"
      ]
     },
     "execution_count": 9,
     "metadata": {},
     "output_type": "execute_result"
    }
   ],
   "source": [
    "arr1 = np.array([np.arange(1,13)], ndmin = 4)\n",
    "arr1"
   ]
  },
  {
   "cell_type": "code",
   "execution_count": 16,
   "id": "5a3372d8",
   "metadata": {},
   "outputs": [
    {
     "data": {
      "text/plain": [
       "array([[[0.55987943, 0.68432761, 0.89549126, 0.30740884, 0.83947412,\n",
       "         0.17015661, 0.72281966, 0.62290453, 0.12417324, 0.29277138,\n",
       "         0.07061073, 0.51120254, 0.82022954, 0.46010072, 0.1200286 ,\n",
       "         0.97736656, 0.74566045, 0.79958663, 0.34368994, 0.06669311]]])"
      ]
     },
     "execution_count": 16,
     "metadata": {},
     "output_type": "execute_result"
    }
   ],
   "source": [
    "array1 = np.array([np.random.random(20)], ndmin = 3)\n",
    "array1"
   ]
  },
  {
   "cell_type": "markdown",
   "id": "457f2913",
   "metadata": {},
   "source": [
    "Find all attributes of array1 and array2"
   ]
  },
  {
   "cell_type": "code",
   "execution_count": 18,
   "id": "bd0e3f9a",
   "metadata": {},
   "outputs": [
    {
     "data": {
      "text/plain": [
       "dtype('int32')"
      ]
     },
     "execution_count": 18,
     "metadata": {},
     "output_type": "execute_result"
    }
   ],
   "source": [
    "arr1.dtype"
   ]
  },
  {
   "cell_type": "code",
   "execution_count": 19,
   "id": "920dcf4c",
   "metadata": {},
   "outputs": [
    {
     "data": {
      "text/plain": [
       "4"
      ]
     },
     "execution_count": 19,
     "metadata": {},
     "output_type": "execute_result"
    }
   ],
   "source": [
    "arr1.itemsize"
   ]
  },
  {
   "cell_type": "code",
   "execution_count": 20,
   "id": "65f5e9e1",
   "metadata": {},
   "outputs": [
    {
     "data": {
      "text/plain": [
       "48"
      ]
     },
     "execution_count": 20,
     "metadata": {},
     "output_type": "execute_result"
    }
   ],
   "source": [
    "arr1.nbytes"
   ]
  },
  {
   "cell_type": "code",
   "execution_count": 21,
   "id": "77de3839",
   "metadata": {},
   "outputs": [
    {
     "data": {
      "text/plain": [
       "4"
      ]
     },
     "execution_count": 21,
     "metadata": {},
     "output_type": "execute_result"
    }
   ],
   "source": [
    "arr1.ndim"
   ]
  },
  {
   "cell_type": "code",
   "execution_count": 22,
   "id": "ccae9a22",
   "metadata": {},
   "outputs": [
    {
     "data": {
      "text/plain": [
       "12"
      ]
     },
     "execution_count": 22,
     "metadata": {},
     "output_type": "execute_result"
    }
   ],
   "source": [
    "arr1.size"
   ]
  },
  {
   "cell_type": "code",
   "execution_count": 23,
   "id": "c69428c5",
   "metadata": {},
   "outputs": [
    {
     "data": {
      "text/plain": [
       "dtype('float64')"
      ]
     },
     "execution_count": 23,
     "metadata": {},
     "output_type": "execute_result"
    }
   ],
   "source": [
    "array1.dtype"
   ]
  },
  {
   "cell_type": "code",
   "execution_count": 24,
   "id": "04364abb",
   "metadata": {},
   "outputs": [
    {
     "data": {
      "text/plain": [
       "8"
      ]
     },
     "execution_count": 24,
     "metadata": {},
     "output_type": "execute_result"
    }
   ],
   "source": [
    "array1.itemsize"
   ]
  },
  {
   "cell_type": "code",
   "execution_count": 25,
   "id": "8a5d1bb1",
   "metadata": {},
   "outputs": [
    {
     "data": {
      "text/plain": [
       "160"
      ]
     },
     "execution_count": 25,
     "metadata": {},
     "output_type": "execute_result"
    }
   ],
   "source": [
    "array1.nbytes"
   ]
  },
  {
   "cell_type": "code",
   "execution_count": 26,
   "id": "e048dffd",
   "metadata": {},
   "outputs": [
    {
     "data": {
      "text/plain": [
       "4"
      ]
     },
     "execution_count": 26,
     "metadata": {},
     "output_type": "execute_result"
    }
   ],
   "source": [
    "arr1.ndim"
   ]
  },
  {
   "cell_type": "code",
   "execution_count": 27,
   "id": "d34cae92",
   "metadata": {},
   "outputs": [
    {
     "data": {
      "text/plain": [
       "12"
      ]
     },
     "execution_count": 27,
     "metadata": {},
     "output_type": "execute_result"
    }
   ],
   "source": [
    "arr1.size"
   ]
  },
  {
   "cell_type": "markdown",
   "id": "1298261c",
   "metadata": {},
   "source": [
    "Apply measure and describe the data (attributes and descriptive statistics) to above arrays using NumPy."
   ]
  },
  {
   "cell_type": "code",
   "execution_count": 28,
   "id": "06dc889b",
   "metadata": {},
   "outputs": [
    {
     "data": {
      "text/plain": [
       "6.5"
      ]
     },
     "execution_count": 28,
     "metadata": {},
     "output_type": "execute_result"
    }
   ],
   "source": [
    "np.mean(arr1)             ## Average of the arr1 is 6.5"
   ]
  },
  {
   "cell_type": "code",
   "execution_count": 29,
   "id": "7038a025",
   "metadata": {},
   "outputs": [
    {
     "data": {
      "text/plain": [
       "6.5"
      ]
     },
     "execution_count": 29,
     "metadata": {},
     "output_type": "execute_result"
    }
   ],
   "source": [
    "np.median(arr1)          ## Center point of the arr1 is 6.5"
   ]
  },
  {
   "cell_type": "code",
   "execution_count": 30,
   "id": "d705d081",
   "metadata": {},
   "outputs": [
    {
     "data": {
      "text/plain": [
       "3.452052529534663"
      ]
     },
     "execution_count": 30,
     "metadata": {},
     "output_type": "execute_result"
    }
   ],
   "source": [
    "np.std(arr1)             ## Standard Deviation is 3.452052529534663"
   ]
  },
  {
   "cell_type": "code",
   "execution_count": 31,
   "id": "09c847e7",
   "metadata": {},
   "outputs": [
    {
     "data": {
      "text/plain": [
       "11.916666666666666"
      ]
     },
     "execution_count": 31,
     "metadata": {},
     "output_type": "execute_result"
    }
   ],
   "source": [
    "np.var(arr1)            ## Variance is 11.916666666666"
   ]
  },
  {
   "cell_type": "code",
   "execution_count": 32,
   "id": "80e3f66a",
   "metadata": {},
   "outputs": [
    {
     "data": {
      "text/plain": [
       "1"
      ]
     },
     "execution_count": 32,
     "metadata": {},
     "output_type": "execute_result"
    }
   ],
   "source": [
    "np.min(arr1)          ## Minimum of the arr1 is 1"
   ]
  },
  {
   "cell_type": "code",
   "execution_count": 33,
   "id": "8e3fa345",
   "metadata": {},
   "outputs": [
    {
     "data": {
      "text/plain": [
       "12"
      ]
     },
     "execution_count": 33,
     "metadata": {},
     "output_type": "execute_result"
    }
   ],
   "source": [
    "np.max(arr1)          ## Maximum of the arr1 is 12"
   ]
  },
  {
   "cell_type": "code",
   "execution_count": 35,
   "id": "63522195",
   "metadata": {},
   "outputs": [
    {
     "data": {
      "text/plain": [
       "11"
      ]
     },
     "execution_count": 35,
     "metadata": {},
     "output_type": "execute_result"
    }
   ],
   "source": [
    "range1 = np.max(arr1)-np.min(arr1)          ## Range is max - min of array\n",
    "range1 "
   ]
  },
  {
   "cell_type": "code",
   "execution_count": 37,
   "id": "1fff30d4",
   "metadata": {},
   "outputs": [
    {
     "data": {
      "text/plain": [
       "0.5067287751842867"
      ]
     },
     "execution_count": 37,
     "metadata": {},
     "output_type": "execute_result"
    }
   ],
   "source": [
    "np.mean(array1)             ## Average of the array1 is 0.5067287751842867"
   ]
  },
  {
   "cell_type": "code",
   "execution_count": 38,
   "id": "210223c9",
   "metadata": {},
   "outputs": [
    {
     "data": {
      "text/plain": [
       "0.5355409848506842"
      ]
     },
     "execution_count": 38,
     "metadata": {},
     "output_type": "execute_result"
    }
   ],
   "source": [
    "np.median(array1)          ## Center point of the array1 is 0.5355409848506842"
   ]
  },
  {
   "cell_type": "code",
   "execution_count": 39,
   "id": "39d1fb13",
   "metadata": {},
   "outputs": [
    {
     "data": {
      "text/plain": [
       "0.29379668479557647"
      ]
     },
     "execution_count": 39,
     "metadata": {},
     "output_type": "execute_result"
    }
   ],
   "source": [
    "np.std(array1)             ## Standard Deviation is 0.29379668479557647"
   ]
  },
  {
   "cell_type": "code",
   "execution_count": 41,
   "id": "1f069626",
   "metadata": {},
   "outputs": [
    {
     "data": {
      "text/plain": [
       "0.0863164919968713"
      ]
     },
     "execution_count": 41,
     "metadata": {},
     "output_type": "execute_result"
    }
   ],
   "source": [
    "np.var(array1)            ## Variance is 0.0863164919968713"
   ]
  },
  {
   "cell_type": "code",
   "execution_count": 42,
   "id": "3c1cfad2",
   "metadata": {},
   "outputs": [
    {
     "data": {
      "text/plain": [
       "0.06669311057971616"
      ]
     },
     "execution_count": 42,
     "metadata": {},
     "output_type": "execute_result"
    }
   ],
   "source": [
    "np.min(array1)          ## Minimum of the array1 is 0.06669311057971616"
   ]
  },
  {
   "cell_type": "code",
   "execution_count": 44,
   "id": "4a385fc5",
   "metadata": {},
   "outputs": [
    {
     "data": {
      "text/plain": [
       "0.9773665567707088"
      ]
     },
     "execution_count": 44,
     "metadata": {},
     "output_type": "execute_result"
    }
   ],
   "source": [
    "np.max(array1)          ## Maximum of the array1 is 0.9773665567707088"
   ]
  },
  {
   "cell_type": "code",
   "execution_count": 45,
   "id": "58be6c37",
   "metadata": {},
   "outputs": [
    {
     "data": {
      "text/plain": [
       "0.9106734461909927"
      ]
     },
     "execution_count": 45,
     "metadata": {},
     "output_type": "execute_result"
    }
   ],
   "source": [
    "range1 = np.max(array1)-np.min(array1)          ## Range is max - min of array1\n",
    "range1 "
   ]
  },
  {
   "cell_type": "code",
   "execution_count": 55,
   "id": "e69f6db0",
   "metadata": {},
   "outputs": [
    {
     "data": {
      "text/plain": [
       "3.75"
      ]
     },
     "execution_count": 55,
     "metadata": {},
     "output_type": "execute_result"
    }
   ],
   "source": [
    "q1 = np.percentile(arr1,25)            ## First Quartile of arr1\n",
    "q1"
   ]
  },
  {
   "cell_type": "code",
   "execution_count": 56,
   "id": "c44f1811",
   "metadata": {},
   "outputs": [
    {
     "data": {
      "text/plain": [
       "9.25"
      ]
     },
     "execution_count": 56,
     "metadata": {},
     "output_type": "execute_result"
    }
   ],
   "source": [
    "q3 = np.percentile(arr1,75)          ## Third Quartile of arr1\n",
    "q3"
   ]
  },
  {
   "cell_type": "code",
   "execution_count": 57,
   "id": "fbfe142e",
   "metadata": {},
   "outputs": [
    {
     "data": {
      "text/plain": [
       "5.5"
      ]
     },
     "execution_count": 57,
     "metadata": {},
     "output_type": "execute_result"
    }
   ],
   "source": [
    "IQR = q3 - q1                     ## Inter Quartile Range of arr1\n",
    "IQR"
   ]
  },
  {
   "cell_type": "code",
   "execution_count": 58,
   "id": "5d99dbb2",
   "metadata": {},
   "outputs": [
    {
     "data": {
      "text/plain": [
       "-4.5"
      ]
     },
     "execution_count": 58,
     "metadata": {},
     "output_type": "execute_result"
    }
   ],
   "source": [
    "lower = q1 - (1.5*IQR)            ## Lower limit of arr1\n",
    "lower"
   ]
  },
  {
   "cell_type": "code",
   "execution_count": 59,
   "id": "2485e919",
   "metadata": {},
   "outputs": [
    {
     "data": {
      "text/plain": [
       "17.5"
      ]
     },
     "execution_count": 59,
     "metadata": {},
     "output_type": "execute_result"
    }
   ],
   "source": [
    "upper = q3 + (1.5*IQR)            ## Upper limit of arr1\n",
    "upper"
   ]
  },
  {
   "cell_type": "code",
   "execution_count": 60,
   "id": "38106d85",
   "metadata": {},
   "outputs": [
    {
     "data": {
      "text/plain": [
       "array([], dtype=int32)"
      ]
     },
     "execution_count": 60,
     "metadata": {},
     "output_type": "execute_result"
    }
   ],
   "source": [
    "arr1[arr1>upper]            ## No value above upper limit which means no outlier on upper side"
   ]
  },
  {
   "cell_type": "code",
   "execution_count": 61,
   "id": "04c4edf2",
   "metadata": {},
   "outputs": [
    {
     "data": {
      "text/plain": [
       "array([], dtype=int32)"
      ]
     },
     "execution_count": 61,
     "metadata": {},
     "output_type": "execute_result"
    }
   ],
   "source": [
    "arr1[arr1<lower]          ## No value above lower limit which means no outlier on lower side"
   ]
  },
  {
   "cell_type": "markdown",
   "id": "011e6dc4",
   "metadata": {},
   "source": [
    "**Array Slicing and Indexing:**\n",
    "\n",
    "a. Creating Arrays: - Create a 1-dimensional NumPy array arr1 with the values [0, 11, 26, 73, 42, 51, 6,77, 8,29]. - Create a 2-dimensional NumPy array arr2 with the values [[0, 1, 2], [3, 4, 5], [6, 7, 8]].\n",
    "\n",
    "b.Basic Indexing: - Print the element at index 3 of arr1. - Print the element at row 2, column 1 of arr2\n",
    "\n",
    "c. Array Slicing: - Print the first five elements of arr1. - Print the subarray of arr2 consisting of the last two rows and the first two columns. - Print every second element starting from index 1 up to index 7 of arr1."
   ]
  },
  {
   "cell_type": "code",
   "execution_count": 2,
   "id": "fdb97296",
   "metadata": {},
   "outputs": [
    {
     "data": {
      "text/plain": [
       "array([ 0, 11, 26, 73, 42, 51,  6, 77,  8, 29])"
      ]
     },
     "execution_count": 2,
     "metadata": {},
     "output_type": "execute_result"
    }
   ],
   "source": [
    "arr1 =  np.array([0, 11, 26, 73, 42, 51, 6,77, 8,29])\n",
    "arr1"
   ]
  },
  {
   "cell_type": "code",
   "execution_count": 3,
   "id": "4626092b",
   "metadata": {},
   "outputs": [
    {
     "data": {
      "text/plain": [
       "array([[0, 1, 2],\n",
       "       [3, 4, 5],\n",
       "       [6, 7, 8]])"
      ]
     },
     "execution_count": 3,
     "metadata": {},
     "output_type": "execute_result"
    }
   ],
   "source": [
    "arr2 = np.array([[0, 1, 2], [3, 4, 5], [6, 7, 8]])\n",
    "arr2"
   ]
  },
  {
   "cell_type": "code",
   "execution_count": 4,
   "id": "6b352abb",
   "metadata": {},
   "outputs": [
    {
     "data": {
      "text/plain": [
       "73"
      ]
     },
     "execution_count": 4,
     "metadata": {},
     "output_type": "execute_result"
    }
   ],
   "source": [
    "arr1[3]           ## element at index 3 of arr1"
   ]
  },
  {
   "cell_type": "code",
   "execution_count": 7,
   "id": "f2bb3df1",
   "metadata": {},
   "outputs": [
    {
     "data": {
      "text/plain": [
       "7"
      ]
     },
     "execution_count": 7,
     "metadata": {},
     "output_type": "execute_result"
    }
   ],
   "source": [
    "arr2[2,1]         ## element at row 2, column 1 of arr2"
   ]
  },
  {
   "cell_type": "code",
   "execution_count": 8,
   "id": "6542a5e5",
   "metadata": {},
   "outputs": [
    {
     "data": {
      "text/plain": [
       "array([ 0, 11, 26, 73, 42])"
      ]
     },
     "execution_count": 8,
     "metadata": {},
     "output_type": "execute_result"
    }
   ],
   "source": [
    "arr1[0:5]        ##  the first five elements of arr1"
   ]
  },
  {
   "cell_type": "code",
   "execution_count": 12,
   "id": "cb655314",
   "metadata": {},
   "outputs": [
    {
     "data": {
      "text/plain": [
       "array([[3, 4],\n",
       "       [6, 7]])"
      ]
     },
     "execution_count": 12,
     "metadata": {},
     "output_type": "execute_result"
    }
   ],
   "source": [
    "arr2[1:3,0:2]    ## the subarray of arr2 consisting of the last two rows and the first two columns"
   ]
  },
  {
   "cell_type": "code",
   "execution_count": 15,
   "id": "24c99e66",
   "metadata": {},
   "outputs": [
    {
     "data": {
      "text/plain": [
       "array([11, 73, 51, 77])"
      ]
     },
     "execution_count": 15,
     "metadata": {},
     "output_type": "execute_result"
    }
   ],
   "source": [
    "arr1[1:8:2]             ##every second element starting from index 1 up to index 7 of arr1."
   ]
  },
  {
   "cell_type": "markdown",
   "id": "ac012626",
   "metadata": {},
   "source": [
    "**Data Type Manipulation**\n",
    "\n",
    "a. Creating Arrays with Specific Data Types: - Create a 1-dimensional NumPy array int_array with the values [1, 2, 3, 4, 5] and the data type int16. - Create a 1-dimensional NumPy array float_array with the values [0.1, 0.2, 0.3, 0.4, 0.5] and the data type float64.\n",
    "\n",
    "b. Data Type Conversion: - Convert the float_array to an array with data type int32. Print the result. - Convert the int_array to an array with data type float32. Print the result."
   ]
  },
  {
   "cell_type": "code",
   "execution_count": 37,
   "id": "fbc4504e",
   "metadata": {},
   "outputs": [
    {
     "data": {
      "text/plain": [
       "array([1, 2, 3, 4, 5], dtype=int16)"
      ]
     },
     "execution_count": 37,
     "metadata": {},
     "output_type": "execute_result"
    }
   ],
   "source": [
    "int_array = np.array([1, 2, 3, 4, 5], dtype = 'int16')    ## Default datatype integer is 'int32' hence given 'int16'\n",
    "int_array"
   ]
  },
  {
   "cell_type": "code",
   "execution_count": 46,
   "id": "580b8040",
   "metadata": {},
   "outputs": [
    {
     "data": {
      "text/plain": [
       "dtype('int16')"
      ]
     },
     "execution_count": 46,
     "metadata": {},
     "output_type": "execute_result"
    }
   ],
   "source": [
    "int_array.dtype"
   ]
  },
  {
   "cell_type": "code",
   "execution_count": 47,
   "id": "2f51234e",
   "metadata": {},
   "outputs": [
    {
     "data": {
      "text/plain": [
       "array([0.1, 0.2, 0.3, 0.4, 0.5])"
      ]
     },
     "execution_count": 47,
     "metadata": {},
     "output_type": "execute_result"
    }
   ],
   "source": [
    "float_array = np.array([0.1, 0.2, 0.3, 0.4, 0.5]) ## Default datatype float is 'float64' hence has not give any input datatype\n",
    "float_array"
   ]
  },
  {
   "cell_type": "code",
   "execution_count": 48,
   "id": "98537445",
   "metadata": {},
   "outputs": [
    {
     "data": {
      "text/plain": [
       "dtype('float64')"
      ]
     },
     "execution_count": 48,
     "metadata": {},
     "output_type": "execute_result"
    }
   ],
   "source": [
    "float_array.dtype"
   ]
  },
  {
   "cell_type": "code",
   "execution_count": 63,
   "id": "5cdbf67e",
   "metadata": {},
   "outputs": [],
   "source": [
    "int_array = np.array(int_array,np.dtype('float32'))       ## Converting in 'float32'"
   ]
  },
  {
   "cell_type": "code",
   "execution_count": 64,
   "id": "23d984c4",
   "metadata": {},
   "outputs": [
    {
     "data": {
      "text/plain": [
       "dtype('float32')"
      ]
     },
     "execution_count": 64,
     "metadata": {},
     "output_type": "execute_result"
    }
   ],
   "source": [
    "int_array.dtype       "
   ]
  },
  {
   "cell_type": "code",
   "execution_count": 65,
   "id": "8c291ccb",
   "metadata": {},
   "outputs": [
    {
     "data": {
      "text/plain": [
       "array([1., 2., 3., 4., 5.], dtype=float32)"
      ]
     },
     "execution_count": 65,
     "metadata": {},
     "output_type": "execute_result"
    }
   ],
   "source": [
    "int_array"
   ]
  },
  {
   "cell_type": "code",
   "execution_count": 66,
   "id": "0cf9eb7d",
   "metadata": {},
   "outputs": [],
   "source": [
    "float_array = np.array(float_array,np.dtype('int32'))    ## Converting in 'int32'"
   ]
  },
  {
   "cell_type": "code",
   "execution_count": 67,
   "id": "baa2dc27",
   "metadata": {},
   "outputs": [
    {
     "data": {
      "text/plain": [
       "dtype('int32')"
      ]
     },
     "execution_count": 67,
     "metadata": {},
     "output_type": "execute_result"
    }
   ],
   "source": [
    "float_array.dtype"
   ]
  },
  {
   "cell_type": "code",
   "execution_count": 68,
   "id": "aea4359f",
   "metadata": {},
   "outputs": [
    {
     "data": {
      "text/plain": [
       "array([0, 0, 0, 0, 0])"
      ]
     },
     "execution_count": 68,
     "metadata": {},
     "output_type": "execute_result"
    }
   ],
   "source": [
    "float_array"
   ]
  },
  {
   "cell_type": "markdown",
   "id": "566d95be",
   "metadata": {},
   "source": [
    "**Generating Random Numbers:**\n",
    "\n",
    "Use numpy.random.randint() to create an array rand_integers containing 10 random integers between 0 and 100 (inclusive).\n",
    "\n",
    "Use numpy.random.uniform() to create an array rand_uniform containing 5 random numbers sampled from a uniform distribution between -1 and 1.\n",
    "\n",
    "Create an array rand_matrix with random integers between 50 and 100 (inclusive).and reshape it to 2-dimensional (4 x 4) matrix\n",
    "\n",
    "Apply descriptive statistics for rand_matrix."
   ]
  },
  {
   "cell_type": "code",
   "execution_count": 69,
   "id": "7b59b9c0",
   "metadata": {},
   "outputs": [
    {
     "data": {
      "text/plain": [
       "array([83, 86, 70, 54, 81, 51, 59, 91, 77, 94])"
      ]
     },
     "execution_count": 69,
     "metadata": {},
     "output_type": "execute_result"
    }
   ],
   "source": [
    "rand_integers = np.random.randint(0,100,10)\n",
    "rand_integers"
   ]
  },
  {
   "cell_type": "code",
   "execution_count": 73,
   "id": "dbb0eb2b",
   "metadata": {},
   "outputs": [
    {
     "data": {
      "text/plain": [
       "array([ 0.28148356, -0.83739771,  0.71434469, -0.69327845,  0.53465882])"
      ]
     },
     "execution_count": 73,
     "metadata": {},
     "output_type": "execute_result"
    }
   ],
   "source": [
    "rand_uniform = np.random.uniform(-1,1,5)\n",
    "rand_uniform"
   ]
  },
  {
   "cell_type": "code",
   "execution_count": 75,
   "id": "d59248b2",
   "metadata": {},
   "outputs": [
    {
     "data": {
      "text/plain": [
       "array([[89, 61, 89, 50],\n",
       "       [56, 64, 65, 70],\n",
       "       [66, 54, 92, 93],\n",
       "       [69, 79, 97, 60]])"
      ]
     },
     "execution_count": 75,
     "metadata": {},
     "output_type": "execute_result"
    }
   ],
   "source": [
    "rand_matrix = np.random.randint(50,101,16).reshape(4,4)\n",
    "rand_matrix"
   ]
  },
  {
   "cell_type": "code",
   "execution_count": 76,
   "id": "1e3b4320",
   "metadata": {},
   "outputs": [
    {
     "data": {
      "text/plain": [
       "72.125"
      ]
     },
     "execution_count": 76,
     "metadata": {},
     "output_type": "execute_result"
    }
   ],
   "source": [
    "np.mean(rand_matrix)          ## Average of array "
   ]
  },
  {
   "cell_type": "code",
   "execution_count": 77,
   "id": "9275c8f9",
   "metadata": {},
   "outputs": [
    {
     "data": {
      "text/plain": [
       "67.5"
      ]
     },
     "execution_count": 77,
     "metadata": {},
     "output_type": "execute_result"
    }
   ],
   "source": [
    "np.median(rand_matrix)       ## center value of array"
   ]
  },
  {
   "cell_type": "code",
   "execution_count": 78,
   "id": "d6b4afd3",
   "metadata": {},
   "outputs": [
    {
     "data": {
      "text/plain": [
       "14.966107543379474"
      ]
     },
     "execution_count": 78,
     "metadata": {},
     "output_type": "execute_result"
    }
   ],
   "source": [
    "np.std(rand_matrix)      ## standard Deviation"
   ]
  },
  {
   "cell_type": "code",
   "execution_count": 79,
   "id": "61cfde5e",
   "metadata": {},
   "outputs": [
    {
     "data": {
      "text/plain": [
       "223.984375"
      ]
     },
     "execution_count": 79,
     "metadata": {},
     "output_type": "execute_result"
    }
   ],
   "source": [
    "np.var(rand_matrix)       ## Variance"
   ]
  },
  {
   "cell_type": "code",
   "execution_count": 80,
   "id": "24ee1cf8",
   "metadata": {},
   "outputs": [
    {
     "data": {
      "text/plain": [
       "47"
      ]
     },
     "execution_count": 80,
     "metadata": {},
     "output_type": "execute_result"
    }
   ],
   "source": [
    "range1 = np.max(rand_matrix)-np.min(rand_matrix)          ## Range\n",
    "range1"
   ]
  },
  {
   "cell_type": "markdown",
   "id": "8dc9709a",
   "metadata": {},
   "source": [
    "**IQR for above Array**"
   ]
  },
  {
   "cell_type": "code",
   "execution_count": 81,
   "id": "9246ca47",
   "metadata": {},
   "outputs": [
    {
     "data": {
      "text/plain": [
       "60.75"
      ]
     },
     "execution_count": 81,
     "metadata": {},
     "output_type": "execute_result"
    }
   ],
   "source": [
    "Q1 = np.percentile(rand_matrix,25)         ## 25 percent of  Quartile\n",
    "Q1"
   ]
  },
  {
   "cell_type": "code",
   "execution_count": 82,
   "id": "4844700a",
   "metadata": {},
   "outputs": [
    {
     "data": {
      "text/plain": [
       "89.0"
      ]
     },
     "execution_count": 82,
     "metadata": {},
     "output_type": "execute_result"
    }
   ],
   "source": [
    "Q3 = np.percentile(rand_matrix,75)        ## 75 ercent of Quartile\n",
    "Q3"
   ]
  },
  {
   "cell_type": "code",
   "execution_count": 83,
   "id": "fed8eef0",
   "metadata": {},
   "outputs": [
    {
     "data": {
      "text/plain": [
       "28.25"
      ]
     },
     "execution_count": 83,
     "metadata": {},
     "output_type": "execute_result"
    }
   ],
   "source": [
    "IQR = Q3-Q1                        ## inter quartile range\n",
    "IQR"
   ]
  },
  {
   "cell_type": "code",
   "execution_count": 87,
   "id": "3589ff3a",
   "metadata": {},
   "outputs": [
    {
     "name": "stdout",
     "output_type": "stream",
     "text": [
      "18.375\n"
     ]
    },
    {
     "data": {
      "text/plain": [
       "array([], dtype=int32)"
      ]
     },
     "execution_count": 87,
     "metadata": {},
     "output_type": "execute_result"
    }
   ],
   "source": [
    "lower = Q1 - (1.5*IQR)       ## lower limit and there is no value below lower limit\n",
    "print(lower)\n",
    "rand_matrix[rand_matrix<lower]"
   ]
  },
  {
   "cell_type": "code",
   "execution_count": 88,
   "id": "0ff540ba",
   "metadata": {},
   "outputs": [
    {
     "name": "stdout",
     "output_type": "stream",
     "text": [
      "131.375\n"
     ]
    },
    {
     "data": {
      "text/plain": [
       "array([], dtype=int32)"
      ]
     },
     "execution_count": 88,
     "metadata": {},
     "output_type": "execute_result"
    }
   ],
   "source": [
    "upper = Q3+(1.5*IQR)     ## upper limit and there is no value above upper limit\n",
    "print(upper)\n",
    "rand_matrix[rand_matrix>upper]"
   ]
  },
  {
   "cell_type": "code",
   "execution_count": 89,
   "id": "36ba584b",
   "metadata": {},
   "outputs": [],
   "source": [
    "## There are no outliers as per above array"
   ]
  },
  {
   "cell_type": "markdown",
   "id": "02d0d173",
   "metadata": {},
   "source": [
    "**Analyze the Data:**\n",
    "\n",
    "Salaries = [87877, 54494, 54804, 85051, 52453, 31250, 94868, 66349, 39828, 60501, 58570, 74906, 41671, 51428, 56414, 98446, 56819, 82833, 50477, 62898, 99658, 89224, 34225, 79172, 32199, 63795, 90947, 55723, 64557, 3113638]\n",
    "\n",
    "Describe the data using numpy array. Measure the following: 1. How many employees are getting more less than 50000?\n",
    "\n",
    "\n",
    "Is it following Normal Distribution?\n",
    "\n",
    "What is the median salary?\n",
    "\n",
    "What is the range of salaries for this company?\n",
    "\n",
    "Find the salaries between average salary and 75% of salaries?\n",
    "\n",
    "How many employees are getting less than 25 % of salaries ?"
   ]
  },
  {
   "cell_type": "code",
   "execution_count": 90,
   "id": "f677f9b3",
   "metadata": {},
   "outputs": [],
   "source": [
    "Salaries = [87877, 54494, 54804, 85051, 52453, 31250, 94868, 66349, 39828, 60501, 58570, 74906, 41671, 51428, 56414, 98446, 56819, 82833, 50477, 62898, 99658, 89224, 34225, 79172, 32199, 63795, 90947, 55723, 64557, 3113638]"
   ]
  },
  {
   "cell_type": "code",
   "execution_count": 93,
   "id": "a227a1ec",
   "metadata": {},
   "outputs": [
    {
     "data": {
      "text/plain": [
       "array([  87877,   54494,   54804,   85051,   52453,   31250,   94868,\n",
       "         66349,   39828,   60501,   58570,   74906,   41671,   51428,\n",
       "         56414,   98446,   56819,   82833,   50477,   62898,   99658,\n",
       "         89224,   34225,   79172,   32199,   63795,   90947,   55723,\n",
       "         64557, 3113638])"
      ]
     },
     "execution_count": 93,
     "metadata": {},
     "output_type": "execute_result"
    }
   ],
   "source": [
    "salaries = np.array(Salaries)\n",
    "salaries"
   ]
  },
  {
   "cell_type": "code",
   "execution_count": 96,
   "id": "87cb54e6",
   "metadata": {},
   "outputs": [
    {
     "data": {
      "text/plain": [
       "25"
      ]
     },
     "execution_count": 96,
     "metadata": {},
     "output_type": "execute_result"
    }
   ],
   "source": [
    "above = np.sum(salaries>50000)       ## no.of employees above salary 50000\n",
    "above"
   ]
  },
  {
   "cell_type": "code",
   "execution_count": 97,
   "id": "29548c05",
   "metadata": {},
   "outputs": [
    {
     "data": {
      "text/plain": [
       "5"
      ]
     },
     "execution_count": 97,
     "metadata": {},
     "output_type": "execute_result"
    }
   ],
   "source": [
    "below = np.sum(salaries<50000)      ## no.of employees below salary 50000\n",
    "below"
   ]
  },
  {
   "cell_type": "code",
   "execution_count": 101,
   "id": "55ab2117",
   "metadata": {},
   "outputs": [
    {
     "data": {
      "text/plain": [
       "166169.16666666666"
      ]
     },
     "execution_count": 101,
     "metadata": {},
     "output_type": "execute_result"
    }
   ],
   "source": [
    "avg_salary = np.mean(salaries)         ## Average Salary\n",
    "avg_salary"
   ]
  },
  {
   "cell_type": "code",
   "execution_count": 98,
   "id": "1a65fa1b",
   "metadata": {},
   "outputs": [
    {
     "data": {
      "text/plain": [
       "61699.5"
      ]
     },
     "execution_count": 98,
     "metadata": {},
     "output_type": "execute_result"
    }
   ],
   "source": [
    "np.median(salaries)             ## Median salary"
   ]
  },
  {
   "cell_type": "code",
   "execution_count": 111,
   "id": "786d7bd2",
   "metadata": {},
   "outputs": [],
   "source": [
    "## Mean of the Salary and median of the salary is not equal hence this is not a normal distribution"
   ]
  },
  {
   "cell_type": "code",
   "execution_count": 99,
   "id": "4b260f0b",
   "metadata": {},
   "outputs": [
    {
     "data": {
      "text/plain": [
       "3082388"
      ]
     },
     "execution_count": 99,
     "metadata": {},
     "output_type": "execute_result"
    }
   ],
   "source": [
    "salary_range = np.max(salaries) - np.min(salaries)      ## Salary range\n",
    "salary_range"
   ]
  },
  {
   "cell_type": "code",
   "execution_count": 102,
   "id": "1020a5b6",
   "metadata": {},
   "outputs": [
    {
     "data": {
      "text/plain": [
       "52963.25"
      ]
     },
     "execution_count": 102,
     "metadata": {},
     "output_type": "execute_result"
    }
   ],
   "source": [
    "Q1 = np.percentile(salaries,25)    ## 25% of the salaries\n",
    "Q1"
   ]
  },
  {
   "cell_type": "code",
   "execution_count": 104,
   "id": "7395e78f",
   "metadata": {},
   "outputs": [
    {
     "data": {
      "text/plain": [
       "8"
      ]
     },
     "execution_count": 104,
     "metadata": {},
     "output_type": "execute_result"
    }
   ],
   "source": [
    "np.sum(salaries<Q1)        ## number of employees with less than 25% salaries"
   ]
  },
  {
   "cell_type": "code",
   "execution_count": 105,
   "id": "5146bbbf",
   "metadata": {},
   "outputs": [
    {
     "data": {
      "text/plain": [
       "84496.5"
      ]
     },
     "execution_count": 105,
     "metadata": {},
     "output_type": "execute_result"
    }
   ],
   "source": [
    "Q3 = np.percentile(salaries,75)       ## 75% of the salaries\n",
    "Q3"
   ]
  },
  {
   "cell_type": "code",
   "execution_count": 110,
   "id": "285c8dc7",
   "metadata": {},
   "outputs": [
    {
     "data": {
      "text/plain": [
       "array([87877, 85051, 94868, 98446, 99658, 89224, 90947])"
      ]
     },
     "execution_count": 110,
     "metadata": {},
     "output_type": "execute_result"
    }
   ],
   "source": [
    "salaries[(salaries<avg_salary) & (salaries>=Q3)]      ## Salaries between average salary and 75% of salary"
   ]
  },
  {
   "cell_type": "code",
   "execution_count": null,
   "id": "0e163017",
   "metadata": {},
   "outputs": [],
   "source": []
  }
 ],
 "metadata": {
  "kernelspec": {
   "display_name": "Python 3 (ipykernel)",
   "language": "python",
   "name": "python3"
  },
  "language_info": {
   "codemirror_mode": {
    "name": "ipython",
    "version": 3
   },
   "file_extension": ".py",
   "mimetype": "text/x-python",
   "name": "python",
   "nbconvert_exporter": "python",
   "pygments_lexer": "ipython3",
   "version": "3.11.4"
  }
 },
 "nbformat": 4,
 "nbformat_minor": 5
}
