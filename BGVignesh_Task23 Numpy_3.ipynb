{
 "cells": [
  {
   "cell_type": "markdown",
   "id": "656b37c0",
   "metadata": {},
   "source": [
    "### Data Cleaning using numpy\n",
    "\n",
    "**The following are the student marks of a class**\n",
    "[44,24,np.nan,59,32,96,188,52,62,58,52,120,np.nan,np.nan,3,56,81,59,,122,92,np.nan,87,96,97,1,19,2,53, 44]\n",
    "\n",
    "\n",
    "\n",
    "1. Find the no of outliers and missing values?\n",
    "2. replace the outliers with 45 and missing value with 87.\n",
    "3. what is the average marks of students after 2nd step?\n",
    "4. How many students got less than 60 marks?\n",
    "5. what is the maximum marks?\n",
    "6. Convert the marks to float32."
   ]
  },
  {
   "cell_type": "code",
   "execution_count": 2,
   "id": "ca69be9d",
   "metadata": {},
   "outputs": [],
   "source": [
    "import numpy as np"
   ]
  },
  {
   "cell_type": "code",
   "execution_count": 44,
   "id": "ca1f67d0",
   "metadata": {},
   "outputs": [
    {
     "data": {
      "text/plain": [
       "array([ 44.,  24.,  nan,  59.,  32.,  96., 188.,  52.,  62.,  58.,  52.,\n",
       "       120.,  nan,  nan,   3.,  56.,  81.,  59., 122.,  92.,  nan,  87.,\n",
       "        96.,  97.,   1.,  19.,   2.,  53.,  44.])"
      ]
     },
     "execution_count": 44,
     "metadata": {},
     "output_type": "execute_result"
    }
   ],
   "source": [
    "marks = np.array([44,24,np.nan,59,32,96,188,52,62,58,52,120,np.nan,np.nan,3,56,81,59,122,92,np.nan,87,96,97,1,19,2,53, 44])\n",
    "marks"
   ]
  },
  {
   "cell_type": "code",
   "execution_count": 45,
   "id": "f33082e2",
   "metadata": {},
   "outputs": [
    {
     "data": {
      "text/plain": [
       "4"
      ]
     },
     "execution_count": 45,
     "metadata": {},
     "output_type": "execute_result"
    }
   ],
   "source": [
    "np.sum(np.isnan(marks))         ## There are 4 missing values"
   ]
  },
  {
   "cell_type": "code",
   "execution_count": 46,
   "id": "381eeb74",
   "metadata": {},
   "outputs": [
    {
     "data": {
      "text/plain": [
       "7"
      ]
     },
     "execution_count": 46,
     "metadata": {},
     "output_type": "execute_result"
    }
   ],
   "source": [
    "outliers = ((marks<20) | (marks>100))      ## Assuming  as passing marks as 20 and 100 as total marks of subject, there are 8 outliers\n",
    "np.sum(outliers)"
   ]
  },
  {
   "cell_type": "code",
   "execution_count": 47,
   "id": "c487fe95",
   "metadata": {},
   "outputs": [
    {
     "data": {
      "text/plain": [
       "array([ 44,  24,  87,  59,  32,  96, 188,  52,  62,  58,  52, 120,  87,\n",
       "        87,   3,  56,  81,  59, 122,  92,  87,  87,  96,  97,   1,  19,\n",
       "         2,  53,  44], dtype=int16)"
      ]
     },
     "execution_count": 47,
     "metadata": {},
     "output_type": "execute_result"
    }
   ],
   "source": [
    "marks = (np.where(np.isnan(marks),87,marks).astype('int16'))       ## Missing values replaced with 87\n",
    "marks"
   ]
  },
  {
   "cell_type": "code",
   "execution_count": 48,
   "id": "7de16330",
   "metadata": {},
   "outputs": [
    {
     "data": {
      "text/plain": [
       "array([44, 24, 87, 59, 32, 96, 45, 52, 62, 58, 52, 45, 87, 87, 45, 56, 81,\n",
       "       59, 45, 92, 87, 87, 96, 97, 45, 45, 45, 53, 44], dtype=int16)"
      ]
     },
     "execution_count": 48,
     "metadata": {},
     "output_type": "execute_result"
    }
   ],
   "source": [
    "marks = (np.where(outliers,45, marks).astype('int16'))         ## Outliers are replaced with 45\n",
    "marks"
   ]
  },
  {
   "cell_type": "code",
   "execution_count": 49,
   "id": "4feee3d4",
   "metadata": {},
   "outputs": [
    {
     "data": {
      "text/plain": [
       "62.310344827586206"
      ]
     },
     "execution_count": 49,
     "metadata": {},
     "output_type": "execute_result"
    }
   ],
   "source": [
    "average_marks = np.mean(marks)        ## Average marks of students\n",
    "average_marks"
   ]
  },
  {
   "cell_type": "code",
   "execution_count": 50,
   "id": "a8a9a046",
   "metadata": {},
   "outputs": [
    {
     "data": {
      "text/plain": [
       "18"
      ]
     },
     "execution_count": 50,
     "metadata": {},
     "output_type": "execute_result"
    }
   ],
   "source": [
    "less_60 = np.sum(marks<60)     ## No.of students less than 60\n",
    "less_60"
   ]
  },
  {
   "cell_type": "code",
   "execution_count": 51,
   "id": "6ca8e7c4",
   "metadata": {},
   "outputs": [
    {
     "data": {
      "text/plain": [
       "97"
      ]
     },
     "execution_count": 51,
     "metadata": {},
     "output_type": "execute_result"
    }
   ],
   "source": [
    "maximum = np.max(marks)      ## Maximum marks\n",
    "maximum"
   ]
  },
  {
   "cell_type": "code",
   "execution_count": 52,
   "id": "f3019bb9",
   "metadata": {},
   "outputs": [
    {
     "data": {
      "text/plain": [
       "dtype('int16')"
      ]
     },
     "execution_count": 52,
     "metadata": {},
     "output_type": "execute_result"
    }
   ],
   "source": [
    "marks.dtype"
   ]
  },
  {
   "cell_type": "code",
   "execution_count": 53,
   "id": "d9dd247e",
   "metadata": {},
   "outputs": [
    {
     "data": {
      "text/plain": [
       "dtype('float32')"
      ]
     },
     "execution_count": 53,
     "metadata": {},
     "output_type": "execute_result"
    }
   ],
   "source": [
    "marks = marks.astype('float32')   ## Converted marks to 'float32'\n",
    "marks.dtype"
   ]
  },
  {
   "cell_type": "markdown",
   "id": "8b5543b3",
   "metadata": {},
   "source": [
    "### Solving Linear Equations\n",
    "\n",
    "\n",
    "    \n",
    "1. 2x + 3y - z = 10\n",
    "\n",
    "    x - y + 2z = 5\n",
    "    \n",
    "    3x + 2y + z = 12\n",
    "    \n",
    "    \n",
    "    \n",
    "2. 2x + y - z + 3w = 8\n",
    "\n",
    "    3x - 2y + 2z + 2w = 1\n",
    "    \n",
    "    x + 3y - 2z + w = 7\n",
    "    \n",
    "    4x - y + z - 2w = 3\n",
    "   \n",
    "   \n",
    "   \n",
    "3. 4x + 2y - 3z = 10\n",
    "\n",
    "    -2x + 3y + z = -3\n",
    "    \n",
    "    x - y + 2z = 4\n",
    "    \n",
    "Solve the system of equations using NumPy's linalg.solve function.\n"
   ]
  },
  {
   "cell_type": "code",
   "execution_count": 57,
   "id": "0c2cf06b",
   "metadata": {},
   "outputs": [
    {
     "data": {
      "text/plain": [
       "array([-7.36952666e+15,  7.36952666e+15,  7.36952666e+15])"
      ]
     },
     "execution_count": 57,
     "metadata": {},
     "output_type": "execute_result"
    }
   ],
   "source": [
    "a = np.array([[2,3,-1],[1,-1,2],[3,2,1]])\n",
    "b = np.array([10,5,12])\n",
    "np.linalg.solve(a,b)"
   ]
  },
  {
   "cell_type": "code",
   "execution_count": 55,
   "id": "97f494a0",
   "metadata": {},
   "outputs": [],
   "source": [
    "## from above equation x = -7.36952666e+15, y =7.36952666e+15 , z= 7.36952666e+15"
   ]
  },
  {
   "cell_type": "code",
   "execution_count": 56,
   "id": "b63efab9",
   "metadata": {},
   "outputs": [
    {
     "data": {
      "text/plain": [
       "array([ 1.73170732, -0.75609756, -3.46341463,  0.6097561 ])"
      ]
     },
     "execution_count": 56,
     "metadata": {},
     "output_type": "execute_result"
    }
   ],
   "source": [
    "c = np.array([[2,1,-1,3],[3,-2,2,2],[1,3,-2,1],[4,-1,1,-2]])\n",
    "d = np.array([8,1,7,3])\n",
    "np.linalg.solve(c,d)"
   ]
  },
  {
   "cell_type": "code",
   "execution_count": 58,
   "id": "cbd17bf2",
   "metadata": {},
   "outputs": [],
   "source": [
    "## from above equation x = 1.73170732, y = -0.75609756, z = -3.46341463, w = 0.6097561"
   ]
  },
  {
   "cell_type": "code",
   "execution_count": 59,
   "id": "d124b721",
   "metadata": {},
   "outputs": [
    {
     "data": {
      "text/plain": [
       "array([2.85365854, 0.6097561 , 0.87804878])"
      ]
     },
     "execution_count": 59,
     "metadata": {},
     "output_type": "execute_result"
    }
   ],
   "source": [
    "e = np.array([[4,2,-3],[-2,3,1],[1,-1,2]])\n",
    "f = np.array([10,-3,4])\n",
    "np.linalg.solve(e,f)"
   ]
  },
  {
   "cell_type": "code",
   "execution_count": 60,
   "id": "8cca8d93",
   "metadata": {},
   "outputs": [],
   "source": [
    "## from above equation x = 2.85365854, y = 0.6097561 ,z = 0.87804878"
   ]
  },
  {
   "cell_type": "markdown",
   "id": "d061019d",
   "metadata": {},
   "source": [
    "### Conditional Selection with np.where()\n",
    "\n",
    "\n",
    "1.\tGenerate a random 1D array A of 10 integers between 1 and 100.\n",
    "\n",
    "2.\tUse np.where() to find the indices where the elements of A are greater than 50.\n",
    "\n",
    "3.\tCreate a new array B that contains elements from A where the condition is met.\n",
    "\n",
    "4.\tCalculate the mean of array B and print it along with arrays A and B."
   ]
  },
  {
   "cell_type": "code",
   "execution_count": 61,
   "id": "d2879d9f",
   "metadata": {},
   "outputs": [
    {
     "data": {
      "text/plain": [
       "array([63, 18, 55, 43, 54,  6, 97,  4, 33, 28])"
      ]
     },
     "execution_count": 61,
     "metadata": {},
     "output_type": "execute_result"
    }
   ],
   "source": [
    "A = np.random.randint(1,100,10)         ## 10 random numbers between 1,100\n",
    "A"
   ]
  },
  {
   "cell_type": "code",
   "execution_count": 63,
   "id": "4cf06484",
   "metadata": {},
   "outputs": [
    {
     "data": {
      "text/plain": [
       "array([63, 55, 54, 97])"
      ]
     },
     "execution_count": 63,
     "metadata": {},
     "output_type": "execute_result"
    }
   ],
   "source": [
    "A[np.where(A>50)]        ## Elements in A greater than 50"
   ]
  },
  {
   "cell_type": "code",
   "execution_count": 65,
   "id": "3269b65f",
   "metadata": {},
   "outputs": [
    {
     "data": {
      "text/plain": [
       "array([63, 55, 54, 97])"
      ]
     },
     "execution_count": 65,
     "metadata": {},
     "output_type": "execute_result"
    }
   ],
   "source": [
    "B = A[np.where(A>50)]       ## Assigning above condition to B\n",
    "B"
   ]
  },
  {
   "cell_type": "code",
   "execution_count": 68,
   "id": "5b8f6b06",
   "metadata": {},
   "outputs": [
    {
     "name": "stdout",
     "output_type": "stream",
     "text": [
      "Mean of B:  67.25\n",
      "Array A:  [63 18 55 43 54  6 97  4 33 28]\n",
      "Array B:  [63 55 54 97]\n"
     ]
    }
   ],
   "source": [
    "print(\"Mean of B: \",np.mean(B))\n",
    "print(\"Array A: \",A)\n",
    "print(\"Array B: \",B)"
   ]
  },
  {
   "cell_type": "markdown",
   "id": "2e26290e",
   "metadata": {},
   "source": [
    "### Replace Values with np.where()\n",
    "\n",
    "1.\tCreate a 4x4 random integer matrix C with values between -10 and 10.\n",
    "\n",
    "2.\tUse np.where() to replace all negative values in matrix C with 0.\n",
    "\n",
    "3.\tPrint the original matrix C and the modified matrix."
   ]
  },
  {
   "cell_type": "code",
   "execution_count": 72,
   "id": "3cf90cc4",
   "metadata": {},
   "outputs": [
    {
     "data": {
      "text/plain": [
       "array([[  9,  -3,   2,  -3],\n",
       "       [ -7, -10,  -5,   1],\n",
       "       [  8,   8,   3,  -2],\n",
       "       [ -8,  -2, -10,  -3]])"
      ]
     },
     "execution_count": 72,
     "metadata": {},
     "output_type": "execute_result"
    }
   ],
   "source": [
    "C = np.random.randint(-10,10,16).reshape(4,4)   ## 4x4 matrix between -10 and 10\n",
    "C"
   ]
  },
  {
   "cell_type": "code",
   "execution_count": 73,
   "id": "99985e0e",
   "metadata": {},
   "outputs": [
    {
     "data": {
      "text/plain": [
       "array([[9, 0, 2, 0],\n",
       "       [0, 0, 0, 1],\n",
       "       [8, 8, 3, 0],\n",
       "       [0, 0, 0, 0]])"
      ]
     },
     "execution_count": 73,
     "metadata": {},
     "output_type": "execute_result"
    }
   ],
   "source": [
    "c = np.where(C<0,0,C)         ## Replaced negative values with 0\n",
    "c"
   ]
  },
  {
   "cell_type": "code",
   "execution_count": 80,
   "id": "e6ffcf8a",
   "metadata": {},
   "outputs": [
    {
     "name": "stdout",
     "output_type": "stream",
     "text": [
      "Original C: \n",
      "[[  9  -3   2  -3]\n",
      " [ -7 -10  -5   1]\n",
      " [  8   8   3  -2]\n",
      " [ -8  -2 -10  -3]]\n",
      "\n",
      "Modified C: \n",
      "[[9 0 2 0]\n",
      " [0 0 0 1]\n",
      " [8 8 3 0]\n",
      " [0 0 0 0]]\n"
     ]
    }
   ],
   "source": [
    "print(f\"Original C: \\n{C}\\n\\nModified C: \\n{c}\")"
   ]
  },
  {
   "cell_type": "code",
   "execution_count": null,
   "id": "3c2e067e",
   "metadata": {},
   "outputs": [],
   "source": []
  }
 ],
 "metadata": {
  "kernelspec": {
   "display_name": "Python 3 (ipykernel)",
   "language": "python",
   "name": "python3"
  },
  "language_info": {
   "codemirror_mode": {
    "name": "ipython",
    "version": 3
   },
   "file_extension": ".py",
   "mimetype": "text/x-python",
   "name": "python",
   "nbconvert_exporter": "python",
   "pygments_lexer": "ipython3",
   "version": "3.11.4"
  }
 },
 "nbformat": 4,
 "nbformat_minor": 5
}
