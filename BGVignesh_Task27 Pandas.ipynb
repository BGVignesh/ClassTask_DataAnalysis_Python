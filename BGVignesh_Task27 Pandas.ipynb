{
 "cells": [
  {
   "cell_type": "code",
   "execution_count": 1,
   "id": "61870d40",
   "metadata": {},
   "outputs": [],
   "source": [
    "import pandas as pd\n",
    "import numpy as np"
   ]
  },
  {
   "cell_type": "markdown",
   "id": "f58dc3d6",
   "metadata": {},
   "source": [
    "**Find all Statistic Measures**"
   ]
  },
  {
   "cell_type": "code",
   "execution_count": 2,
   "id": "0698eafc",
   "metadata": {},
   "outputs": [
    {
     "data": {
      "text/html": [
       "<div>\n",
       "<style scoped>\n",
       "    .dataframe tbody tr th:only-of-type {\n",
       "        vertical-align: middle;\n",
       "    }\n",
       "\n",
       "    .dataframe tbody tr th {\n",
       "        vertical-align: top;\n",
       "    }\n",
       "\n",
       "    .dataframe thead th {\n",
       "        text-align: right;\n",
       "    }\n",
       "</style>\n",
       "<table border=\"1\" class=\"dataframe\">\n",
       "  <thead>\n",
       "    <tr style=\"text-align: right;\">\n",
       "      <th></th>\n",
       "      <th>ID</th>\n",
       "      <th>class</th>\n",
       "      <th>gender</th>\n",
       "      <th>GPA</th>\n",
       "      <th>Algebra</th>\n",
       "      <th>Calculus1</th>\n",
       "      <th>Calculus2</th>\n",
       "      <th>Statistics</th>\n",
       "      <th>Probability</th>\n",
       "      <th>Measure</th>\n",
       "      <th>Functional_analysis</th>\n",
       "    </tr>\n",
       "  </thead>\n",
       "  <tbody>\n",
       "    <tr>\n",
       "      <th>0</th>\n",
       "      <td>1141</td>\n",
       "      <td>A</td>\n",
       "      <td>male</td>\n",
       "      <td>73.47</td>\n",
       "      <td>64</td>\n",
       "      <td>81</td>\n",
       "      <td>87</td>\n",
       "      <td>60</td>\n",
       "      <td>74</td>\n",
       "      <td>71</td>\n",
       "      <td>60</td>\n",
       "    </tr>\n",
       "    <tr>\n",
       "      <th>1</th>\n",
       "      <td>1142</td>\n",
       "      <td>A</td>\n",
       "      <td>female</td>\n",
       "      <td>71.22</td>\n",
       "      <td>57</td>\n",
       "      <td>50</td>\n",
       "      <td>51</td>\n",
       "      <td>51</td>\n",
       "      <td>55</td>\n",
       "      <td>62</td>\n",
       "      <td>61</td>\n",
       "    </tr>\n",
       "    <tr>\n",
       "      <th>2</th>\n",
       "      <td>1143</td>\n",
       "      <td>A</td>\n",
       "      <td>female</td>\n",
       "      <td>74.56</td>\n",
       "      <td>47</td>\n",
       "      <td>48</td>\n",
       "      <td>71</td>\n",
       "      <td>60</td>\n",
       "      <td>61</td>\n",
       "      <td>68</td>\n",
       "      <td>64</td>\n",
       "    </tr>\n",
       "    <tr>\n",
       "      <th>3</th>\n",
       "      <td>1144</td>\n",
       "      <td>A</td>\n",
       "      <td>female</td>\n",
       "      <td>72.89</td>\n",
       "      <td>46</td>\n",
       "      <td>72</td>\n",
       "      <td>38</td>\n",
       "      <td>60</td>\n",
       "      <td>29</td>\n",
       "      <td>54</td>\n",
       "      <td>51</td>\n",
       "    </tr>\n",
       "    <tr>\n",
       "      <th>4</th>\n",
       "      <td>1145</td>\n",
       "      <td>A</td>\n",
       "      <td>female</td>\n",
       "      <td>70.11</td>\n",
       "      <td>49</td>\n",
       "      <td>45</td>\n",
       "      <td>63</td>\n",
       "      <td>60</td>\n",
       "      <td>66</td>\n",
       "      <td>66</td>\n",
       "      <td>61</td>\n",
       "    </tr>\n",
       "    <tr>\n",
       "      <th>...</th>\n",
       "      <td>...</td>\n",
       "      <td>...</td>\n",
       "      <td>...</td>\n",
       "      <td>...</td>\n",
       "      <td>...</td>\n",
       "      <td>...</td>\n",
       "      <td>...</td>\n",
       "      <td>...</td>\n",
       "      <td>...</td>\n",
       "      <td>...</td>\n",
       "      <td>...</td>\n",
       "    </tr>\n",
       "    <tr>\n",
       "      <th>100</th>\n",
       "      <td>1241</td>\n",
       "      <td>A</td>\n",
       "      <td>female</td>\n",
       "      <td>88.34</td>\n",
       "      <td>87</td>\n",
       "      <td>83</td>\n",
       "      <td>92</td>\n",
       "      <td>98</td>\n",
       "      <td>93</td>\n",
       "      <td>86</td>\n",
       "      <td>90</td>\n",
       "    </tr>\n",
       "    <tr>\n",
       "      <th>101</th>\n",
       "      <td>1242</td>\n",
       "      <td>B</td>\n",
       "      <td>male</td>\n",
       "      <td>89.84</td>\n",
       "      <td>98</td>\n",
       "      <td>77</td>\n",
       "      <td>95</td>\n",
       "      <td>98</td>\n",
       "      <td>96</td>\n",
       "      <td>88</td>\n",
       "      <td>100</td>\n",
       "    </tr>\n",
       "    <tr>\n",
       "      <th>102</th>\n",
       "      <td>1243</td>\n",
       "      <td>B</td>\n",
       "      <td>male</td>\n",
       "      <td>88.82</td>\n",
       "      <td>83</td>\n",
       "      <td>80</td>\n",
       "      <td>91</td>\n",
       "      <td>98</td>\n",
       "      <td>93</td>\n",
       "      <td>95</td>\n",
       "      <td>71</td>\n",
       "    </tr>\n",
       "    <tr>\n",
       "      <th>103</th>\n",
       "      <td>1244</td>\n",
       "      <td>A</td>\n",
       "      <td>male</td>\n",
       "      <td>86.60</td>\n",
       "      <td>92</td>\n",
       "      <td>82</td>\n",
       "      <td>91</td>\n",
       "      <td>99</td>\n",
       "      <td>94</td>\n",
       "      <td>82</td>\n",
       "      <td>78</td>\n",
       "    </tr>\n",
       "    <tr>\n",
       "      <th>104</th>\n",
       "      <td>1245</td>\n",
       "      <td>A</td>\n",
       "      <td>male</td>\n",
       "      <td>93.71</td>\n",
       "      <td>93</td>\n",
       "      <td>97</td>\n",
       "      <td>99</td>\n",
       "      <td>100</td>\n",
       "      <td>97</td>\n",
       "      <td>90</td>\n",
       "      <td>90</td>\n",
       "    </tr>\n",
       "  </tbody>\n",
       "</table>\n",
       "<p>105 rows × 11 columns</p>\n",
       "</div>"
      ],
      "text/plain": [
       "       ID class  gender    GPA  Algebra  Calculus1  Calculus2  Statistics  \\\n",
       "0    1141     A    male  73.47       64         81         87          60   \n",
       "1    1142     A  female  71.22       57         50         51          51   \n",
       "2    1143     A  female  74.56       47         48         71          60   \n",
       "3    1144     A  female  72.89       46         72         38          60   \n",
       "4    1145     A  female  70.11       49         45         63          60   \n",
       "..    ...   ...     ...    ...      ...        ...        ...         ...   \n",
       "100  1241     A  female  88.34       87         83         92          98   \n",
       "101  1242     B    male  89.84       98         77         95          98   \n",
       "102  1243     B    male  88.82       83         80         91          98   \n",
       "103  1244     A    male  86.60       92         82         91          99   \n",
       "104  1245     A    male  93.71       93         97         99         100   \n",
       "\n",
       "     Probability  Measure  Functional_analysis  \n",
       "0             74       71                   60  \n",
       "1             55       62                   61  \n",
       "2             61       68                   64  \n",
       "3             29       54                   51  \n",
       "4             66       66                   61  \n",
       "..           ...      ...                  ...  \n",
       "100           93       86                   90  \n",
       "101           96       88                  100  \n",
       "102           93       95                   71  \n",
       "103           94       82                   78  \n",
       "104           97       90                   90  \n",
       "\n",
       "[105 rows x 11 columns]"
      ]
     },
     "execution_count": 2,
     "metadata": {},
     "output_type": "execute_result"
    }
   ],
   "source": [
    "dd = pd.read_csv(r\"C:\\Users\\hi\\Desktop\\Innomatics\\Sample Docs for practice\\studens_data.csv\")\n",
    "dd"
   ]
  },
  {
   "cell_type": "code",
   "execution_count": 4,
   "id": "22f6b186",
   "metadata": {},
   "outputs": [
    {
     "data": {
      "text/html": [
       "<div>\n",
       "<style scoped>\n",
       "    .dataframe tbody tr th:only-of-type {\n",
       "        vertical-align: middle;\n",
       "    }\n",
       "\n",
       "    .dataframe tbody tr th {\n",
       "        vertical-align: top;\n",
       "    }\n",
       "\n",
       "    .dataframe thead th {\n",
       "        text-align: right;\n",
       "    }\n",
       "</style>\n",
       "<table border=\"1\" class=\"dataframe\">\n",
       "  <thead>\n",
       "    <tr style=\"text-align: right;\">\n",
       "      <th></th>\n",
       "      <th>ID</th>\n",
       "      <th>GPA</th>\n",
       "      <th>Algebra</th>\n",
       "      <th>Calculus1</th>\n",
       "      <th>Calculus2</th>\n",
       "      <th>Statistics</th>\n",
       "      <th>Probability</th>\n",
       "      <th>Measure</th>\n",
       "      <th>Functional_analysis</th>\n",
       "    </tr>\n",
       "  </thead>\n",
       "  <tbody>\n",
       "    <tr>\n",
       "      <th>count</th>\n",
       "      <td>105.000000</td>\n",
       "      <td>105.000000</td>\n",
       "      <td>105.000000</td>\n",
       "      <td>105.000000</td>\n",
       "      <td>105.000000</td>\n",
       "      <td>105.000000</td>\n",
       "      <td>105.000000</td>\n",
       "      <td>105.000000</td>\n",
       "      <td>105.000000</td>\n",
       "    </tr>\n",
       "    <tr>\n",
       "      <th>mean</th>\n",
       "      <td>1193.000000</td>\n",
       "      <td>82.957048</td>\n",
       "      <td>76.057143</td>\n",
       "      <td>71.961905</td>\n",
       "      <td>78.942857</td>\n",
       "      <td>85.133333</td>\n",
       "      <td>83.876190</td>\n",
       "      <td>80.761905</td>\n",
       "      <td>75.323810</td>\n",
       "    </tr>\n",
       "    <tr>\n",
       "      <th>std</th>\n",
       "      <td>30.454885</td>\n",
       "      <td>6.053187</td>\n",
       "      <td>11.722618</td>\n",
       "      <td>12.197039</td>\n",
       "      <td>14.997326</td>\n",
       "      <td>10.269509</td>\n",
       "      <td>10.514363</td>\n",
       "      <td>10.296119</td>\n",
       "      <td>13.003324</td>\n",
       "    </tr>\n",
       "    <tr>\n",
       "      <th>min</th>\n",
       "      <td>1141.000000</td>\n",
       "      <td>63.490000</td>\n",
       "      <td>46.000000</td>\n",
       "      <td>38.000000</td>\n",
       "      <td>17.000000</td>\n",
       "      <td>51.000000</td>\n",
       "      <td>29.000000</td>\n",
       "      <td>54.000000</td>\n",
       "      <td>9.000000</td>\n",
       "    </tr>\n",
       "    <tr>\n",
       "      <th>25%</th>\n",
       "      <td>1167.000000</td>\n",
       "      <td>79.340000</td>\n",
       "      <td>67.000000</td>\n",
       "      <td>64.000000</td>\n",
       "      <td>71.000000</td>\n",
       "      <td>80.000000</td>\n",
       "      <td>79.000000</td>\n",
       "      <td>74.000000</td>\n",
       "      <td>67.000000</td>\n",
       "    </tr>\n",
       "    <tr>\n",
       "      <th>50%</th>\n",
       "      <td>1193.000000</td>\n",
       "      <td>84.110000</td>\n",
       "      <td>76.000000</td>\n",
       "      <td>73.000000</td>\n",
       "      <td>83.000000</td>\n",
       "      <td>87.000000</td>\n",
       "      <td>85.000000</td>\n",
       "      <td>81.000000</td>\n",
       "      <td>76.000000</td>\n",
       "    </tr>\n",
       "    <tr>\n",
       "      <th>75%</th>\n",
       "      <td>1219.000000</td>\n",
       "      <td>87.300000</td>\n",
       "      <td>84.000000</td>\n",
       "      <td>80.000000</td>\n",
       "      <td>91.000000</td>\n",
       "      <td>92.000000</td>\n",
       "      <td>92.000000</td>\n",
       "      <td>89.000000</td>\n",
       "      <td>85.000000</td>\n",
       "    </tr>\n",
       "    <tr>\n",
       "      <th>max</th>\n",
       "      <td>1245.000000</td>\n",
       "      <td>93.710000</td>\n",
       "      <td>98.000000</td>\n",
       "      <td>100.000000</td>\n",
       "      <td>99.000000</td>\n",
       "      <td>100.000000</td>\n",
       "      <td>97.000000</td>\n",
       "      <td>100.000000</td>\n",
       "      <td>100.000000</td>\n",
       "    </tr>\n",
       "  </tbody>\n",
       "</table>\n",
       "</div>"
      ],
      "text/plain": [
       "                ID         GPA     Algebra   Calculus1   Calculus2  \\\n",
       "count   105.000000  105.000000  105.000000  105.000000  105.000000   \n",
       "mean   1193.000000   82.957048   76.057143   71.961905   78.942857   \n",
       "std      30.454885    6.053187   11.722618   12.197039   14.997326   \n",
       "min    1141.000000   63.490000   46.000000   38.000000   17.000000   \n",
       "25%    1167.000000   79.340000   67.000000   64.000000   71.000000   \n",
       "50%    1193.000000   84.110000   76.000000   73.000000   83.000000   \n",
       "75%    1219.000000   87.300000   84.000000   80.000000   91.000000   \n",
       "max    1245.000000   93.710000   98.000000  100.000000   99.000000   \n",
       "\n",
       "       Statistics  Probability     Measure  Functional_analysis  \n",
       "count  105.000000   105.000000  105.000000           105.000000  \n",
       "mean    85.133333    83.876190   80.761905            75.323810  \n",
       "std     10.269509    10.514363   10.296119            13.003324  \n",
       "min     51.000000    29.000000   54.000000             9.000000  \n",
       "25%     80.000000    79.000000   74.000000            67.000000  \n",
       "50%     87.000000    85.000000   81.000000            76.000000  \n",
       "75%     92.000000    92.000000   89.000000            85.000000  \n",
       "max    100.000000    97.000000  100.000000           100.000000  "
      ]
     },
     "execution_count": 4,
     "metadata": {},
     "output_type": "execute_result"
    }
   ],
   "source": [
    "dd.describe()"
   ]
  },
  {
   "cell_type": "code",
   "execution_count": 5,
   "id": "bc9bc6ea",
   "metadata": {},
   "outputs": [
    {
     "name": "stderr",
     "output_type": "stream",
     "text": [
      "C:\\Users\\hi\\AppData\\Local\\Temp\\ipykernel_6220\\554249589.py:1: FutureWarning: The default value of numeric_only in DataFrame.median is deprecated. In a future version, it will default to False. In addition, specifying 'numeric_only=None' is deprecated. Select only valid columns or specify the value of numeric_only to silence this warning.\n",
      "  dd.median()\n"
     ]
    },
    {
     "data": {
      "text/plain": [
       "ID                     1193.00\n",
       "GPA                      84.11\n",
       "Algebra                  76.00\n",
       "Calculus1                73.00\n",
       "Calculus2                83.00\n",
       "Statistics               87.00\n",
       "Probability              85.00\n",
       "Measure                  81.00\n",
       "Functional_analysis      76.00\n",
       "dtype: float64"
      ]
     },
     "execution_count": 5,
     "metadata": {},
     "output_type": "execute_result"
    }
   ],
   "source": [
    "dd.median()"
   ]
  },
  {
   "cell_type": "code",
   "execution_count": 6,
   "id": "5a074825",
   "metadata": {},
   "outputs": [
    {
     "name": "stderr",
     "output_type": "stream",
     "text": [
      "C:\\Users\\hi\\AppData\\Local\\Temp\\ipykernel_6220\\2687161090.py:1: FutureWarning: The default value of numeric_only in DataFrame.var is deprecated. In a future version, it will default to False. In addition, specifying 'numeric_only=None' is deprecated. Select only valid columns or specify the value of numeric_only to silence this warning.\n",
      "  dd.var()\n"
     ]
    },
    {
     "data": {
      "text/plain": [
       "ID                     927.500000\n",
       "GPA                     36.641067\n",
       "Algebra                137.419780\n",
       "Calculus1              148.767766\n",
       "Calculus2              224.919780\n",
       "Statistics             105.462821\n",
       "Probability            110.551832\n",
       "Measure                106.010073\n",
       "Functional_analysis    169.086447\n",
       "dtype: float64"
      ]
     },
     "execution_count": 6,
     "metadata": {},
     "output_type": "execute_result"
    }
   ],
   "source": [
    "dd.var()"
   ]
  },
  {
   "cell_type": "markdown",
   "id": "8add5f99",
   "metadata": {},
   "source": [
    "**Which subject has highest average ?**"
   ]
  },
  {
   "cell_type": "code",
   "execution_count": 9,
   "id": "ce3d7177",
   "metadata": {},
   "outputs": [
    {
     "name": "stderr",
     "output_type": "stream",
     "text": [
      "C:\\Users\\hi\\AppData\\Local\\Temp\\ipykernel_6220\\2590964925.py:1: FutureWarning: The default value of numeric_only in DataFrame.mean is deprecated. In a future version, it will default to False. In addition, specifying 'numeric_only=None' is deprecated. Select only valid columns or specify the value of numeric_only to silence this warning.\n",
      "  dd.mean()      ## Statistics has the highest average\n"
     ]
    },
    {
     "data": {
      "text/plain": [
       "ID                     1193.000000\n",
       "GPA                      82.957048\n",
       "Algebra                  76.057143\n",
       "Calculus1                71.961905\n",
       "Calculus2                78.942857\n",
       "Statistics               85.133333\n",
       "Probability              83.876190\n",
       "Measure                  80.761905\n",
       "Functional_analysis      75.323810\n",
       "dtype: float64"
      ]
     },
     "execution_count": 9,
     "metadata": {},
     "output_type": "execute_result"
    }
   ],
   "source": [
    "dd.mean()      ## Statistics has the highest average"
   ]
  },
  {
   "cell_type": "markdown",
   "id": "d5495fb6",
   "metadata": {},
   "source": [
    "**What are the Student IDs who got more tham 80% GPA?**"
   ]
  },
  {
   "cell_type": "code",
   "execution_count": 16,
   "id": "0773ab6c",
   "metadata": {},
   "outputs": [
    {
     "data": {
      "text/plain": [
       "11     1152\n",
       "13     1154\n",
       "14     1155\n",
       "15     1156\n",
       "17     1158\n",
       "       ... \n",
       "100    1241\n",
       "101    1242\n",
       "102    1243\n",
       "103    1244\n",
       "104    1245\n",
       "Name: ID, Length: 76, dtype: int64"
      ]
     },
     "execution_count": 16,
     "metadata": {},
     "output_type": "execute_result"
    }
   ],
   "source": [
    "dd[dd[\"GPA\"]>80][\"ID\"]      ## 76 out of 105 have more than 80% GPA"
   ]
  },
  {
   "cell_type": "markdown",
   "id": "3ed384da",
   "metadata": {},
   "source": [
    "**How many female students are there in the class?**"
   ]
  },
  {
   "cell_type": "code",
   "execution_count": 22,
   "id": "8854c2b4",
   "metadata": {},
   "outputs": [
    {
     "data": {
      "text/plain": [
       "68"
      ]
     },
     "execution_count": 22,
     "metadata": {},
     "output_type": "execute_result"
    }
   ],
   "source": [
    "dd[\"gender\"].value_counts()[0]       ## There are 68 female in the class"
   ]
  },
  {
   "cell_type": "markdown",
   "id": "18eec5c6",
   "metadata": {},
   "source": [
    "**What is the ratio of male students and female students?**"
   ]
  },
  {
   "cell_type": "code",
   "execution_count": 44,
   "id": "d4a2a072",
   "metadata": {},
   "outputs": [
    {
     "name": "stdout",
     "output_type": "stream",
     "text": [
      "37 : 68\n"
     ]
    }
   ],
   "source": [
    "print(f\"{dd['gender'].value_counts()[1]%105} : {dd['gender'].value_counts()[0]%105}\")"
   ]
  },
  {
   "cell_type": "markdown",
   "id": "eb530cf8",
   "metadata": {},
   "source": [
    "**What are the marks of male students in statistics ?**"
   ]
  },
  {
   "cell_type": "code",
   "execution_count": 45,
   "id": "ebc02469",
   "metadata": {},
   "outputs": [
    {
     "data": {
      "text/plain": [
       "0       60\n",
       "5       61\n",
       "6       63\n",
       "10      69\n",
       "13      73\n",
       "14      76\n",
       "16      76\n",
       "17      76\n",
       "18      76\n",
       "19      78\n",
       "20      78\n",
       "21      78\n",
       "24      80\n",
       "28      83\n",
       "31      83\n",
       "32      83\n",
       "33      83\n",
       "40      85\n",
       "47      87\n",
       "50      87\n",
       "59      89\n",
       "61      89\n",
       "65      90\n",
       "72      92\n",
       "78      92\n",
       "82      92\n",
       "89      94\n",
       "90      95\n",
       "92      95\n",
       "96      97\n",
       "97      97\n",
       "98      97\n",
       "99      97\n",
       "101     98\n",
       "102     98\n",
       "103     99\n",
       "104    100\n",
       "Name: Statistics, dtype: int64"
      ]
     },
     "execution_count": 45,
     "metadata": {},
     "output_type": "execute_result"
    }
   ],
   "source": [
    "dd[dd[\"gender\"]==\"male\"][\"Statistics\"]"
   ]
  },
  {
   "cell_type": "markdown",
   "id": "314525f6",
   "metadata": {},
   "source": [
    "**What is the ID of the class topper ?**"
   ]
  },
  {
   "cell_type": "code",
   "execution_count": 82,
   "id": "f6b50ae3",
   "metadata": {},
   "outputs": [
    {
     "data": {
      "text/plain": [
       "104    1245\n",
       "Name: ID, dtype: int64"
      ]
     },
     "execution_count": 82,
     "metadata": {},
     "output_type": "execute_result"
    }
   ],
   "source": [
    "dd[(dd[\"GPA\"]== dd[\"GPA\"].max())][\"ID\"]       ## Class topper ID is 1245"
   ]
  },
  {
   "cell_type": "markdown",
   "id": "db5a30b8",
   "metadata": {},
   "source": [
    "**What is the gender of probabilty topper?**"
   ]
  },
  {
   "cell_type": "code",
   "execution_count": 88,
   "id": "726dabec",
   "metadata": {},
   "outputs": [
    {
     "data": {
      "text/plain": [
       "41     female\n",
       "72       male\n",
       "87     female\n",
       "104      male\n",
       "Name: gender, dtype: object"
      ]
     },
     "execution_count": 88,
     "metadata": {},
     "output_type": "execute_result"
    }
   ],
   "source": [
    "dd[(dd[\"Probability\"]== dd[\"Probability\"].max())][\"gender\"]      ## 2 Female and 2 Male got high marks in probability"
   ]
  },
  {
   "cell_type": "markdown",
   "id": "d7a39994",
   "metadata": {},
   "source": [
    "**Create Pivot Table for gender and class?**"
   ]
  },
  {
   "cell_type": "code",
   "execution_count": 94,
   "id": "e245fc10",
   "metadata": {},
   "outputs": [
    {
     "data": {
      "text/html": [
       "<div>\n",
       "<style scoped>\n",
       "    .dataframe tbody tr th:only-of-type {\n",
       "        vertical-align: middle;\n",
       "    }\n",
       "\n",
       "    .dataframe tbody tr th {\n",
       "        vertical-align: top;\n",
       "    }\n",
       "\n",
       "    .dataframe thead th {\n",
       "        text-align: right;\n",
       "    }\n",
       "</style>\n",
       "<table border=\"1\" class=\"dataframe\">\n",
       "  <thead>\n",
       "    <tr style=\"text-align: right;\">\n",
       "      <th>class</th>\n",
       "      <th>A</th>\n",
       "      <th>B</th>\n",
       "    </tr>\n",
       "    <tr>\n",
       "      <th>gender</th>\n",
       "      <th></th>\n",
       "      <th></th>\n",
       "    </tr>\n",
       "  </thead>\n",
       "  <tbody>\n",
       "    <tr>\n",
       "      <th>female</th>\n",
       "      <td>48</td>\n",
       "      <td>20</td>\n",
       "    </tr>\n",
       "    <tr>\n",
       "      <th>male</th>\n",
       "      <td>28</td>\n",
       "      <td>9</td>\n",
       "    </tr>\n",
       "  </tbody>\n",
       "</table>\n",
       "</div>"
      ],
      "text/plain": [
       "class    A   B\n",
       "gender        \n",
       "female  48  20\n",
       "male    28   9"
      ]
     },
     "execution_count": 94,
     "metadata": {},
     "output_type": "execute_result"
    }
   ],
   "source": [
    "pd.crosstab(dd[\"gender\"],dd[\"class\"])"
   ]
  },
  {
   "cell_type": "markdown",
   "id": "8fcb2c09",
   "metadata": {},
   "source": [
    "**Which subject got least average marks.?**"
   ]
  },
  {
   "cell_type": "code",
   "execution_count": 95,
   "id": "cee4b967",
   "metadata": {},
   "outputs": [
    {
     "name": "stderr",
     "output_type": "stream",
     "text": [
      "C:\\Users\\hi\\AppData\\Local\\Temp\\ipykernel_6220\\3036168029.py:1: FutureWarning: The default value of numeric_only in DataFrame.mean is deprecated. In a future version, it will default to False. In addition, specifying 'numeric_only=None' is deprecated. Select only valid columns or specify the value of numeric_only to silence this warning.\n",
      "  dd.mean()\n"
     ]
    },
    {
     "data": {
      "text/plain": [
       "ID                     1193.000000\n",
       "GPA                      82.957048\n",
       "Algebra                  76.057143\n",
       "Calculus1                71.961905\n",
       "Calculus2                78.942857\n",
       "Statistics               85.133333\n",
       "Probability              83.876190\n",
       "Measure                  80.761905\n",
       "Functional_analysis      75.323810\n",
       "dtype: float64"
      ]
     },
     "execution_count": 95,
     "metadata": {},
     "output_type": "execute_result"
    }
   ],
   "source": [
    "dd.mean()          ## Calculus1 has got least average"
   ]
  },
  {
   "cell_type": "markdown",
   "id": "6b666d91",
   "metadata": {},
   "source": [
    "**How many male and female students are there ?**"
   ]
  },
  {
   "cell_type": "code",
   "execution_count": 96,
   "id": "9d34a343",
   "metadata": {},
   "outputs": [
    {
     "data": {
      "text/plain": [
       "female    68\n",
       "male      37\n",
       "Name: gender, dtype: int64"
      ]
     },
     "execution_count": 96,
     "metadata": {},
     "output_type": "execute_result"
    }
   ],
   "source": [
    "dd[\"gender\"].value_counts()"
   ]
  },
  {
   "cell_type": "markdown",
   "id": "1d2db0a4",
   "metadata": {},
   "source": [
    "**How many female student are there from class A?**"
   ]
  },
  {
   "cell_type": "code",
   "execution_count": 99,
   "id": "3bc56890",
   "metadata": {},
   "outputs": [
    {
     "data": {
      "text/plain": [
       "False    57\n",
       "True     48\n",
       "dtype: int64"
      ]
     },
     "execution_count": 99,
     "metadata": {},
     "output_type": "execute_result"
    }
   ],
   "source": [
    "((dd[\"gender\"] == 'female') & (dd[\"class\"] == \"A\")).value_counts()   ## There are 48 from class A"
   ]
  },
  {
   "cell_type": "markdown",
   "id": "832e818c",
   "metadata": {},
   "source": [
    "**Which class has more strength ?**"
   ]
  },
  {
   "cell_type": "code",
   "execution_count": 102,
   "id": "6d1b706b",
   "metadata": {},
   "outputs": [
    {
     "data": {
      "text/plain": [
       "A    76\n",
       "B    29\n",
       "Name: class, dtype: int64"
      ]
     },
     "execution_count": 102,
     "metadata": {},
     "output_type": "execute_result"
    }
   ],
   "source": [
    "dd[\"class\"].value_counts()         ## Class A has more strength"
   ]
  },
  {
   "cell_type": "markdown",
   "id": "47479b0e",
   "metadata": {},
   "source": [
    "**Sort the data as per algebra ?**"
   ]
  },
  {
   "cell_type": "code",
   "execution_count": 105,
   "id": "6d29f738",
   "metadata": {},
   "outputs": [
    {
     "data": {
      "text/html": [
       "<div>\n",
       "<style scoped>\n",
       "    .dataframe tbody tr th:only-of-type {\n",
       "        vertical-align: middle;\n",
       "    }\n",
       "\n",
       "    .dataframe tbody tr th {\n",
       "        vertical-align: top;\n",
       "    }\n",
       "\n",
       "    .dataframe thead th {\n",
       "        text-align: right;\n",
       "    }\n",
       "</style>\n",
       "<table border=\"1\" class=\"dataframe\">\n",
       "  <thead>\n",
       "    <tr style=\"text-align: right;\">\n",
       "      <th></th>\n",
       "      <th>ID</th>\n",
       "      <th>class</th>\n",
       "      <th>gender</th>\n",
       "      <th>GPA</th>\n",
       "      <th>Algebra</th>\n",
       "      <th>Calculus1</th>\n",
       "      <th>Calculus2</th>\n",
       "      <th>Statistics</th>\n",
       "      <th>Probability</th>\n",
       "      <th>Measure</th>\n",
       "      <th>Functional_analysis</th>\n",
       "    </tr>\n",
       "  </thead>\n",
       "  <tbody>\n",
       "    <tr>\n",
       "      <th>3</th>\n",
       "      <td>1144</td>\n",
       "      <td>A</td>\n",
       "      <td>female</td>\n",
       "      <td>72.89</td>\n",
       "      <td>46</td>\n",
       "      <td>72</td>\n",
       "      <td>38</td>\n",
       "      <td>60</td>\n",
       "      <td>29</td>\n",
       "      <td>54</td>\n",
       "      <td>51</td>\n",
       "    </tr>\n",
       "    <tr>\n",
       "      <th>2</th>\n",
       "      <td>1143</td>\n",
       "      <td>A</td>\n",
       "      <td>female</td>\n",
       "      <td>74.56</td>\n",
       "      <td>47</td>\n",
       "      <td>48</td>\n",
       "      <td>71</td>\n",
       "      <td>60</td>\n",
       "      <td>61</td>\n",
       "      <td>68</td>\n",
       "      <td>64</td>\n",
       "    </tr>\n",
       "    <tr>\n",
       "      <th>4</th>\n",
       "      <td>1145</td>\n",
       "      <td>A</td>\n",
       "      <td>female</td>\n",
       "      <td>70.11</td>\n",
       "      <td>49</td>\n",
       "      <td>45</td>\n",
       "      <td>63</td>\n",
       "      <td>60</td>\n",
       "      <td>66</td>\n",
       "      <td>66</td>\n",
       "      <td>61</td>\n",
       "    </tr>\n",
       "    <tr>\n",
       "      <th>1</th>\n",
       "      <td>1142</td>\n",
       "      <td>A</td>\n",
       "      <td>female</td>\n",
       "      <td>71.22</td>\n",
       "      <td>57</td>\n",
       "      <td>50</td>\n",
       "      <td>51</td>\n",
       "      <td>51</td>\n",
       "      <td>55</td>\n",
       "      <td>62</td>\n",
       "      <td>61</td>\n",
       "    </tr>\n",
       "    <tr>\n",
       "      <th>9</th>\n",
       "      <td>1150</td>\n",
       "      <td>A</td>\n",
       "      <td>female</td>\n",
       "      <td>76.50</td>\n",
       "      <td>60</td>\n",
       "      <td>61</td>\n",
       "      <td>60</td>\n",
       "      <td>69</td>\n",
       "      <td>73</td>\n",
       "      <td>60</td>\n",
       "      <td>62</td>\n",
       "    </tr>\n",
       "    <tr>\n",
       "      <th>...</th>\n",
       "      <td>...</td>\n",
       "      <td>...</td>\n",
       "      <td>...</td>\n",
       "      <td>...</td>\n",
       "      <td>...</td>\n",
       "      <td>...</td>\n",
       "      <td>...</td>\n",
       "      <td>...</td>\n",
       "      <td>...</td>\n",
       "      <td>...</td>\n",
       "      <td>...</td>\n",
       "    </tr>\n",
       "    <tr>\n",
       "      <th>65</th>\n",
       "      <td>1206</td>\n",
       "      <td>A</td>\n",
       "      <td>male</td>\n",
       "      <td>86.37</td>\n",
       "      <td>95</td>\n",
       "      <td>76</td>\n",
       "      <td>87</td>\n",
       "      <td>90</td>\n",
       "      <td>86</td>\n",
       "      <td>94</td>\n",
       "      <td>84</td>\n",
       "    </tr>\n",
       "    <tr>\n",
       "      <th>75</th>\n",
       "      <td>1216</td>\n",
       "      <td>A</td>\n",
       "      <td>female</td>\n",
       "      <td>91.90</td>\n",
       "      <td>95</td>\n",
       "      <td>86</td>\n",
       "      <td>96</td>\n",
       "      <td>92</td>\n",
       "      <td>95</td>\n",
       "      <td>90</td>\n",
       "      <td>95</td>\n",
       "    </tr>\n",
       "    <tr>\n",
       "      <th>87</th>\n",
       "      <td>1228</td>\n",
       "      <td>A</td>\n",
       "      <td>female</td>\n",
       "      <td>88.62</td>\n",
       "      <td>95</td>\n",
       "      <td>65</td>\n",
       "      <td>97</td>\n",
       "      <td>94</td>\n",
       "      <td>97</td>\n",
       "      <td>85</td>\n",
       "      <td>85</td>\n",
       "    </tr>\n",
       "    <tr>\n",
       "      <th>97</th>\n",
       "      <td>1238</td>\n",
       "      <td>A</td>\n",
       "      <td>male</td>\n",
       "      <td>91.14</td>\n",
       "      <td>98</td>\n",
       "      <td>90</td>\n",
       "      <td>98</td>\n",
       "      <td>97</td>\n",
       "      <td>83</td>\n",
       "      <td>93</td>\n",
       "      <td>89</td>\n",
       "    </tr>\n",
       "    <tr>\n",
       "      <th>101</th>\n",
       "      <td>1242</td>\n",
       "      <td>B</td>\n",
       "      <td>male</td>\n",
       "      <td>89.84</td>\n",
       "      <td>98</td>\n",
       "      <td>77</td>\n",
       "      <td>95</td>\n",
       "      <td>98</td>\n",
       "      <td>96</td>\n",
       "      <td>88</td>\n",
       "      <td>100</td>\n",
       "    </tr>\n",
       "  </tbody>\n",
       "</table>\n",
       "<p>105 rows × 11 columns</p>\n",
       "</div>"
      ],
      "text/plain": [
       "       ID class  gender    GPA  Algebra  Calculus1  Calculus2  Statistics  \\\n",
       "3    1144     A  female  72.89       46         72         38          60   \n",
       "2    1143     A  female  74.56       47         48         71          60   \n",
       "4    1145     A  female  70.11       49         45         63          60   \n",
       "1    1142     A  female  71.22       57         50         51          51   \n",
       "9    1150     A  female  76.50       60         61         60          69   \n",
       "..    ...   ...     ...    ...      ...        ...        ...         ...   \n",
       "65   1206     A    male  86.37       95         76         87          90   \n",
       "75   1216     A  female  91.90       95         86         96          92   \n",
       "87   1228     A  female  88.62       95         65         97          94   \n",
       "97   1238     A    male  91.14       98         90         98          97   \n",
       "101  1242     B    male  89.84       98         77         95          98   \n",
       "\n",
       "     Probability  Measure  Functional_analysis  \n",
       "3             29       54                   51  \n",
       "2             61       68                   64  \n",
       "4             66       66                   61  \n",
       "1             55       62                   61  \n",
       "9             73       60                   62  \n",
       "..           ...      ...                  ...  \n",
       "65            86       94                   84  \n",
       "75            95       90                   95  \n",
       "87            97       85                   85  \n",
       "97            83       93                   89  \n",
       "101           96       88                  100  \n",
       "\n",
       "[105 rows x 11 columns]"
      ]
     },
     "execution_count": 105,
     "metadata": {},
     "output_type": "execute_result"
    }
   ],
   "source": [
    "dd.sort_values(\"Algebra\")"
   ]
  },
  {
   "cell_type": "markdown",
   "id": "18ee7d0b",
   "metadata": {},
   "source": [
    "**How many students got exactly 64 marks from functional analysis?**"
   ]
  },
  {
   "cell_type": "code",
   "execution_count": 108,
   "id": "e9a4c4a8",
   "metadata": {},
   "outputs": [
    {
     "data": {
      "text/plain": [
       "False    97\n",
       "True      8\n",
       "Name: Functional_analysis, dtype: int64"
      ]
     },
     "execution_count": 108,
     "metadata": {},
     "output_type": "execute_result"
    }
   ],
   "source": [
    "(dd[\"Functional_analysis\"]==64).value_counts()      ## 8 students got 64 marks in Functional_analysis."
   ]
  },
  {
   "cell_type": "code",
   "execution_count": null,
   "id": "27ff68f1",
   "metadata": {},
   "outputs": [],
   "source": []
  }
 ],
 "metadata": {
  "kernelspec": {
   "display_name": "Python 3 (ipykernel)",
   "language": "python",
   "name": "python3"
  },
  "language_info": {
   "codemirror_mode": {
    "name": "ipython",
    "version": 3
   },
   "file_extension": ".py",
   "mimetype": "text/x-python",
   "name": "python",
   "nbconvert_exporter": "python",
   "pygments_lexer": "ipython3",
   "version": "3.11.4"
  }
 },
 "nbformat": 4,
 "nbformat_minor": 5
}
