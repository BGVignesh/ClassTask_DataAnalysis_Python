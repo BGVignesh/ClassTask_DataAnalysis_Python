{
 "cells": [
  {
   "cell_type": "markdown",
   "id": "307de8cb",
   "metadata": {},
   "source": [
    "a. Kindly fill the missing values with\n",
    "\n",
    "1) value\n",
    "\n",
    "2) Statistical value\n",
    "\n",
    "3) Filling  method\n",
    "\n",
    "B) Create pivot table for  position and average salary.\n",
    "\n",
    "C) Group the data using group by as per gender  and average age."
   ]
  },
  {
   "cell_type": "code",
   "execution_count": 2,
   "id": "7e149321",
   "metadata": {},
   "outputs": [],
   "source": [
    "import pandas as pd\n",
    "import numpy as np"
   ]
  },
  {
   "cell_type": "code",
   "execution_count": 51,
   "id": "e2c362a9",
   "metadata": {},
   "outputs": [],
   "source": [
    "dd = pd.read_excel(r\"C:\\Users\\hi\\Desktop\\Innomatics\\Sample Docs for practice\\ethnic_diversity.xlsx\")"
   ]
  },
  {
   "cell_type": "code",
   "execution_count": 52,
   "id": "0b1f58fb",
   "metadata": {},
   "outputs": [
    {
     "data": {
      "text/plain": [
       "Employee_Name        0\n",
       "EmpID                0\n",
       "Position             3\n",
       "State                2\n",
       "Zip                  2\n",
       "Gender               7\n",
       "MaritalDesc          9\n",
       "CitizenDesc          3\n",
       "EmploymentStatus     0\n",
       "Department           5\n",
       "Salaries            12\n",
       "age                  0\n",
       "Race                 9\n",
       "dtype: int64"
      ]
     },
     "execution_count": 52,
     "metadata": {},
     "output_type": "execute_result"
    }
   ],
   "source": [
    "dd.isna().sum()"
   ]
  },
  {
   "cell_type": "code",
   "execution_count": 53,
   "id": "0bc181ae",
   "metadata": {},
   "outputs": [
    {
     "data": {
      "text/html": [
       "<div>\n",
       "<style scoped>\n",
       "    .dataframe tbody tr th:only-of-type {\n",
       "        vertical-align: middle;\n",
       "    }\n",
       "\n",
       "    .dataframe tbody tr th {\n",
       "        vertical-align: top;\n",
       "    }\n",
       "\n",
       "    .dataframe thead th {\n",
       "        text-align: right;\n",
       "    }\n",
       "</style>\n",
       "<table border=\"1\" class=\"dataframe\">\n",
       "  <thead>\n",
       "    <tr style=\"text-align: right;\">\n",
       "      <th></th>\n",
       "      <th>Employee_Name</th>\n",
       "      <th>EmpID</th>\n",
       "      <th>Position</th>\n",
       "      <th>State</th>\n",
       "      <th>Zip</th>\n",
       "      <th>Gender</th>\n",
       "      <th>MaritalDesc</th>\n",
       "      <th>CitizenDesc</th>\n",
       "      <th>EmploymentStatus</th>\n",
       "      <th>Department</th>\n",
       "      <th>Salaries</th>\n",
       "      <th>age</th>\n",
       "      <th>Race</th>\n",
       "    </tr>\n",
       "  </thead>\n",
       "  <tbody>\n",
       "    <tr>\n",
       "      <th>0</th>\n",
       "      <td>Brown, Mia</td>\n",
       "      <td>1103024456</td>\n",
       "      <td>Accountant I</td>\n",
       "      <td>MA</td>\n",
       "      <td>1450.0</td>\n",
       "      <td>F</td>\n",
       "      <td>Married</td>\n",
       "      <td>US Citizen</td>\n",
       "      <td>Active</td>\n",
       "      <td>Admin Offices</td>\n",
       "      <td>674.28</td>\n",
       "      <td>28</td>\n",
       "      <td>Black or African American</td>\n",
       "    </tr>\n",
       "    <tr>\n",
       "      <th>1</th>\n",
       "      <td>LaRotonda, William</td>\n",
       "      <td>1106026572</td>\n",
       "      <td>Accountant I</td>\n",
       "      <td>MA</td>\n",
       "      <td>1460.0</td>\n",
       "      <td>M</td>\n",
       "      <td>Divorced</td>\n",
       "      <td>US Citizen</td>\n",
       "      <td>Active</td>\n",
       "      <td>Admin Offices</td>\n",
       "      <td>674.28</td>\n",
       "      <td>50</td>\n",
       "      <td>NaN</td>\n",
       "    </tr>\n",
       "    <tr>\n",
       "      <th>2</th>\n",
       "      <td>Steans, Tyrone</td>\n",
       "      <td>1302053333</td>\n",
       "      <td>Accountant I</td>\n",
       "      <td>MA</td>\n",
       "      <td>2703.0</td>\n",
       "      <td>M</td>\n",
       "      <td>Single</td>\n",
       "      <td>US Citizen</td>\n",
       "      <td>Active</td>\n",
       "      <td>Admin Offices</td>\n",
       "      <td>674.28</td>\n",
       "      <td>43</td>\n",
       "      <td>White</td>\n",
       "    </tr>\n",
       "    <tr>\n",
       "      <th>3</th>\n",
       "      <td>Howard, Estelle</td>\n",
       "      <td>1211050782</td>\n",
       "      <td>Administrative Assistant</td>\n",
       "      <td>MA</td>\n",
       "      <td>2170.0</td>\n",
       "      <td>F</td>\n",
       "      <td>Married</td>\n",
       "      <td>US Citizen</td>\n",
       "      <td>Terminated for Cause</td>\n",
       "      <td>Admin Offices</td>\n",
       "      <td>NaN</td>\n",
       "      <td>44</td>\n",
       "      <td>White</td>\n",
       "    </tr>\n",
       "    <tr>\n",
       "      <th>4</th>\n",
       "      <td>Singh, Nan</td>\n",
       "      <td>1307059817</td>\n",
       "      <td>Administrative Assistant</td>\n",
       "      <td>MA</td>\n",
       "      <td>2330.0</td>\n",
       "      <td>F</td>\n",
       "      <td>Single</td>\n",
       "      <td>US Citizen</td>\n",
       "      <td>Active</td>\n",
       "      <td>Admin Offices</td>\n",
       "      <td>61089.35</td>\n",
       "      <td>33</td>\n",
       "      <td>White</td>\n",
       "    </tr>\n",
       "  </tbody>\n",
       "</table>\n",
       "</div>"
      ],
      "text/plain": [
       "          Employee_Name       EmpID                  Position State     Zip  \\\n",
       "0            Brown, Mia  1103024456              Accountant I    MA  1450.0   \n",
       "1  LaRotonda, William    1106026572              Accountant I    MA  1460.0   \n",
       "2      Steans, Tyrone    1302053333              Accountant I    MA  2703.0   \n",
       "3       Howard, Estelle  1211050782  Administrative Assistant    MA  2170.0   \n",
       "4           Singh, Nan   1307059817  Administrative Assistant    MA  2330.0   \n",
       "\n",
       "  Gender MaritalDesc CitizenDesc      EmploymentStatus     Department  \\\n",
       "0      F     Married  US Citizen                Active  Admin Offices   \n",
       "1     M     Divorced  US Citizen                Active  Admin Offices   \n",
       "2     M       Single  US Citizen                Active  Admin Offices   \n",
       "3      F     Married  US Citizen  Terminated for Cause  Admin Offices   \n",
       "4      F      Single  US Citizen                Active  Admin Offices   \n",
       "\n",
       "   Salaries  age                       Race  \n",
       "0    674.28   28  Black or African American  \n",
       "1    674.28   50                        NaN  \n",
       "2    674.28   43                      White  \n",
       "3       NaN   44                      White  \n",
       "4  61089.35   33                      White  "
      ]
     },
     "execution_count": 53,
     "metadata": {},
     "output_type": "execute_result"
    }
   ],
   "source": [
    "dd.head()"
   ]
  },
  {
   "cell_type": "code",
   "execution_count": 54,
   "id": "9e5d70bf",
   "metadata": {},
   "outputs": [],
   "source": [
    "dd['Position'] = np.where(dd['Position'].isna(),dd['Position'].mode()[0],dd['Position'])"
   ]
  },
  {
   "cell_type": "code",
   "execution_count": 55,
   "id": "d05a56e8",
   "metadata": {},
   "outputs": [],
   "source": [
    "dd['State'] = np.where(dd['State'].isna(),dd['State'].mode()[0],dd['State'])"
   ]
  },
  {
   "cell_type": "code",
   "execution_count": 56,
   "id": "e401b795",
   "metadata": {},
   "outputs": [],
   "source": [
    "## Above filled using statistical measure on categorical data"
   ]
  },
  {
   "cell_type": "code",
   "execution_count": 57,
   "id": "b206de04",
   "metadata": {},
   "outputs": [],
   "source": [
    "dd[\"Zip\"].fillna(dd['Zip'].mode()[0], inplace = True)"
   ]
  },
  {
   "cell_type": "code",
   "execution_count": 59,
   "id": "08d7716d",
   "metadata": {},
   "outputs": [],
   "source": [
    "dd[\"Gender\"].fillna(dd['Gender'].mode()[0], inplace = True)"
   ]
  },
  {
   "cell_type": "code",
   "execution_count": 60,
   "id": "8f4edd20",
   "metadata": {},
   "outputs": [],
   "source": [
    "## Above missing values are filled using fillna by Value and by Statisctics"
   ]
  },
  {
   "cell_type": "code",
   "execution_count": 61,
   "id": "bbc53597",
   "metadata": {},
   "outputs": [],
   "source": [
    "dd[\"MaritalDesc\"].fillna(method = 'bfill', inplace = True)"
   ]
  },
  {
   "cell_type": "code",
   "execution_count": 62,
   "id": "601918d1",
   "metadata": {},
   "outputs": [],
   "source": [
    "dd[\"CitizenDesc\"].fillna(method = 'ffill', inplace = True)"
   ]
  },
  {
   "cell_type": "code",
   "execution_count": 63,
   "id": "df851128",
   "metadata": {},
   "outputs": [],
   "source": [
    "dd[\"Department\"].fillna(dd[\"Department\"].mode()[0], inplace = True)"
   ]
  },
  {
   "cell_type": "code",
   "execution_count": 64,
   "id": "de06b0dd",
   "metadata": {},
   "outputs": [],
   "source": [
    "dd[\"Salaries\"].fillna(dd[\"Salaries\"].mean(), inplace = True)"
   ]
  },
  {
   "cell_type": "code",
   "execution_count": 65,
   "id": "7f0ef0c4",
   "metadata": {},
   "outputs": [],
   "source": [
    "dd[\"Race\"].fillna(\"White\", inplace = True)"
   ]
  },
  {
   "cell_type": "code",
   "execution_count": 66,
   "id": "5e1a8728",
   "metadata": {},
   "outputs": [],
   "source": [
    "## Filled missing values using fillna along with  bfill, ffill , statistics and value"
   ]
  },
  {
   "cell_type": "code",
   "execution_count": 67,
   "id": "1c09a800",
   "metadata": {},
   "outputs": [
    {
     "data": {
      "text/plain": [
       "Employee_Name       0\n",
       "EmpID               0\n",
       "Position            0\n",
       "State               0\n",
       "Zip                 0\n",
       "Gender              0\n",
       "MaritalDesc         0\n",
       "CitizenDesc         0\n",
       "EmploymentStatus    0\n",
       "Department          0\n",
       "Salaries            0\n",
       "age                 0\n",
       "Race                0\n",
       "dtype: int64"
      ]
     },
     "execution_count": 67,
     "metadata": {},
     "output_type": "execute_result"
    }
   ],
   "source": [
    "dd.isna().sum()"
   ]
  },
  {
   "cell_type": "markdown",
   "id": "89c8b9fc",
   "metadata": {},
   "source": [
    "# Pivot Table  for positon and their avg salary"
   ]
  },
  {
   "cell_type": "code",
   "execution_count": 68,
   "id": "9d6cf012",
   "metadata": {},
   "outputs": [
    {
     "data": {
      "text/html": [
       "<div>\n",
       "<style scoped>\n",
       "    .dataframe tbody tr th:only-of-type {\n",
       "        vertical-align: middle;\n",
       "    }\n",
       "\n",
       "    .dataframe tbody tr th {\n",
       "        vertical-align: top;\n",
       "    }\n",
       "\n",
       "    .dataframe thead th {\n",
       "        text-align: right;\n",
       "    }\n",
       "</style>\n",
       "<table border=\"1\" class=\"dataframe\">\n",
       "  <thead>\n",
       "    <tr style=\"text-align: right;\">\n",
       "      <th></th>\n",
       "      <th>Salaries</th>\n",
       "    </tr>\n",
       "    <tr>\n",
       "      <th>Position</th>\n",
       "      <th></th>\n",
       "    </tr>\n",
       "  </thead>\n",
       "  <tbody>\n",
       "    <tr>\n",
       "      <th>Accountant I</th>\n",
       "      <td>674.280000</td>\n",
       "    </tr>\n",
       "    <tr>\n",
       "      <th>Administrative Assistant</th>\n",
       "      <td>43362.530347</td>\n",
       "    </tr>\n",
       "    <tr>\n",
       "      <th>Area Sales Manager</th>\n",
       "      <td>41846.199668</td>\n",
       "    </tr>\n",
       "    <tr>\n",
       "      <th>BI Developer</th>\n",
       "      <td>37235.387760</td>\n",
       "    </tr>\n",
       "    <tr>\n",
       "      <th>BI Director</th>\n",
       "      <td>4160.000000</td>\n",
       "    </tr>\n",
       "    <tr>\n",
       "      <th>CIO</th>\n",
       "      <td>26418.010000</td>\n",
       "    </tr>\n",
       "    <tr>\n",
       "      <th>Data Analyst</th>\n",
       "      <td>37772.945714</td>\n",
       "    </tr>\n",
       "    <tr>\n",
       "      <th>Data Analyst</th>\n",
       "      <td>42304.750000</td>\n",
       "    </tr>\n",
       "    <tr>\n",
       "      <th>Data Architect</th>\n",
       "      <td>90016.010000</td>\n",
       "    </tr>\n",
       "    <tr>\n",
       "      <th>Database Administrator</th>\n",
       "      <td>33813.996000</td>\n",
       "    </tr>\n",
       "    <tr>\n",
       "      <th>Director of Operations</th>\n",
       "      <td>36592.221040</td>\n",
       "    </tr>\n",
       "    <tr>\n",
       "      <th>Director of Sales</th>\n",
       "      <td>27595.700000</td>\n",
       "    </tr>\n",
       "    <tr>\n",
       "      <th>Enterprise Architect</th>\n",
       "      <td>5802.000000</td>\n",
       "    </tr>\n",
       "    <tr>\n",
       "      <th>IT Director</th>\n",
       "      <td>36741.000000</td>\n",
       "    </tr>\n",
       "    <tr>\n",
       "      <th>IT Manager - DB</th>\n",
       "      <td>49791.240000</td>\n",
       "    </tr>\n",
       "    <tr>\n",
       "      <th>IT Manager - Infra</th>\n",
       "      <td>8997.890000</td>\n",
       "    </tr>\n",
       "    <tr>\n",
       "      <th>IT Manager - Support</th>\n",
       "      <td>2143.580000</td>\n",
       "    </tr>\n",
       "    <tr>\n",
       "      <th>IT Support</th>\n",
       "      <td>47139.906380</td>\n",
       "    </tr>\n",
       "    <tr>\n",
       "      <th>Network Engineer</th>\n",
       "      <td>35897.950000</td>\n",
       "    </tr>\n",
       "    <tr>\n",
       "      <th>President &amp; CEO</th>\n",
       "      <td>52633.500000</td>\n",
       "    </tr>\n",
       "    <tr>\n",
       "      <th>Principal Data Architect</th>\n",
       "      <td>24828.700000</td>\n",
       "    </tr>\n",
       "    <tr>\n",
       "      <th>Production Manager</th>\n",
       "      <td>50443.086503</td>\n",
       "    </tr>\n",
       "    <tr>\n",
       "      <th>Production Technician I</th>\n",
       "      <td>35184.061222</td>\n",
       "    </tr>\n",
       "    <tr>\n",
       "      <th>Production Technician II</th>\n",
       "      <td>33803.863333</td>\n",
       "    </tr>\n",
       "    <tr>\n",
       "      <th>Sales Manager</th>\n",
       "      <td>34093.246667</td>\n",
       "    </tr>\n",
       "    <tr>\n",
       "      <th>Senior BI Developer</th>\n",
       "      <td>71293.676667</td>\n",
       "    </tr>\n",
       "    <tr>\n",
       "      <th>Shared Services Manager</th>\n",
       "      <td>45262.975000</td>\n",
       "    </tr>\n",
       "    <tr>\n",
       "      <th>Software Engineer</th>\n",
       "      <td>39892.308889</td>\n",
       "    </tr>\n",
       "    <tr>\n",
       "      <th>Software Engineering Manager</th>\n",
       "      <td>40208.000000</td>\n",
       "    </tr>\n",
       "    <tr>\n",
       "      <th>Sr. Accountant</th>\n",
       "      <td>27349.755000</td>\n",
       "    </tr>\n",
       "    <tr>\n",
       "      <th>Sr. DBA</th>\n",
       "      <td>31954.975000</td>\n",
       "    </tr>\n",
       "    <tr>\n",
       "      <th>Sr. Network Engineer</th>\n",
       "      <td>28438.600000</td>\n",
       "    </tr>\n",
       "  </tbody>\n",
       "</table>\n",
       "</div>"
      ],
      "text/plain": [
       "                                  Salaries\n",
       "Position                                  \n",
       "Accountant I                    674.280000\n",
       "Administrative Assistant      43362.530347\n",
       "Area Sales Manager            41846.199668\n",
       "BI Developer                  37235.387760\n",
       "BI Director                    4160.000000\n",
       "CIO                           26418.010000\n",
       "Data Analyst                  37772.945714\n",
       "Data Analyst                  42304.750000\n",
       "Data Architect                90016.010000\n",
       "Database Administrator        33813.996000\n",
       "Director of Operations        36592.221040\n",
       "Director of Sales             27595.700000\n",
       "Enterprise Architect           5802.000000\n",
       "IT Director                   36741.000000\n",
       "IT Manager - DB               49791.240000\n",
       "IT Manager - Infra             8997.890000\n",
       "IT Manager - Support           2143.580000\n",
       "IT Support                    47139.906380\n",
       "Network Engineer              35897.950000\n",
       "President & CEO               52633.500000\n",
       "Principal Data Architect      24828.700000\n",
       "Production Manager            50443.086503\n",
       "Production Technician I       35184.061222\n",
       "Production Technician II      33803.863333\n",
       "Sales Manager                 34093.246667\n",
       "Senior BI Developer           71293.676667\n",
       "Shared Services Manager       45262.975000\n",
       "Software Engineer             39892.308889\n",
       "Software Engineering Manager  40208.000000\n",
       "Sr. Accountant                27349.755000\n",
       "Sr. DBA                       31954.975000\n",
       "Sr. Network Engineer          28438.600000"
      ]
     },
     "execution_count": 68,
     "metadata": {},
     "output_type": "execute_result"
    }
   ],
   "source": [
    "dd.pivot_table(values = 'Salaries',index = 'Position',aggfunc = 'mean')"
   ]
  },
  {
   "cell_type": "markdown",
   "id": "5bdc6892",
   "metadata": {},
   "source": [
    "# Group by for Gender and Age"
   ]
  },
  {
   "cell_type": "code",
   "execution_count": 69,
   "id": "25b282e2",
   "metadata": {},
   "outputs": [
    {
     "data": {
      "text/html": [
       "<div>\n",
       "<style scoped>\n",
       "    .dataframe tbody tr th:only-of-type {\n",
       "        vertical-align: middle;\n",
       "    }\n",
       "\n",
       "    .dataframe tbody tr th {\n",
       "        vertical-align: top;\n",
       "    }\n",
       "\n",
       "    .dataframe thead th {\n",
       "        text-align: right;\n",
       "    }\n",
       "</style>\n",
       "<table border=\"1\" class=\"dataframe\">\n",
       "  <thead>\n",
       "    <tr style=\"text-align: right;\">\n",
       "      <th></th>\n",
       "      <th>age</th>\n",
       "    </tr>\n",
       "    <tr>\n",
       "      <th>Gender</th>\n",
       "      <th></th>\n",
       "    </tr>\n",
       "  </thead>\n",
       "  <tbody>\n",
       "    <tr>\n",
       "      <th>F</th>\n",
       "      <td>38.670391</td>\n",
       "    </tr>\n",
       "    <tr>\n",
       "      <th>M</th>\n",
       "      <td>38.732824</td>\n",
       "    </tr>\n",
       "  </tbody>\n",
       "</table>\n",
       "</div>"
      ],
      "text/plain": [
       "              age\n",
       "Gender           \n",
       "F       38.670391\n",
       "M       38.732824"
      ]
     },
     "execution_count": 69,
     "metadata": {},
     "output_type": "execute_result"
    }
   ],
   "source": [
    "dd.groupby('Gender')[[\"age\"]].agg(np.mean)"
   ]
  },
  {
   "cell_type": "code",
   "execution_count": null,
   "id": "02e54fa7",
   "metadata": {},
   "outputs": [],
   "source": []
  }
 ],
 "metadata": {
  "kernelspec": {
   "display_name": "Python 3 (ipykernel)",
   "language": "python",
   "name": "python3"
  },
  "language_info": {
   "codemirror_mode": {
    "name": "ipython",
    "version": 3
   },
   "file_extension": ".py",
   "mimetype": "text/x-python",
   "name": "python",
   "nbconvert_exporter": "python",
   "pygments_lexer": "ipython3",
   "version": "3.11.4"
  }
 },
 "nbformat": 4,
 "nbformat_minor": 5
}
